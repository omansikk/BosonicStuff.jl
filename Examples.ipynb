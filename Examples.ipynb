{
 "cells": [
  {
   "cell_type": "markdown",
   "id": "ae68055d-c2db-4562-87d2-179250651dbd",
   "metadata": {},
   "source": [
    "# BosonicStuff.jl\n",
    "\n",
    "This is a collection of most of the code used in the following papers:\n",
    "\n",
    "[1] O. Mansikkamäki, S. Laine, and M. Silveri, [Phases of the disordered Bose-Hubbard model with attractive interactions](https://link.aps.org/doi/10.1103/PhysRevB.103.L220202), Phys. Rev. B 103, L220202 (2021).\n",
    "\n",
    "[2] O. Mansikkamäki et al., [Beyond Hard-Core Bosons in Transmon Arrays](https://link.aps.org/doi/10.1103/PRXQuantum.3.040314), PRX Quantum 3, 040314 (2022).\n",
    "\n",
    "[3] O. Busel et al., [Dissipation and Dephasing of Interacting Photons in Transmon Arrays](http://arxiv.org/abs/2301.07025), arXiv:2301.07025\n",
    "\n",
    "In this notebook, we will first take a brief look at the basic usage of the `BosonicStuff.jl` package, followed by examples on the reproduction of some of the results of the above papers. \n",
    "\n",
    "The `BosonicStuff` module includes five files:  \n",
    "    `Basis.jl` contains functions for handling bases,  \n",
    "    `Operators.jl` contains functions for generating matrix representation of operators,  \n",
    "    `Trajectories.jl` contains functions for running quantum trajectories,  \n",
    "    `Miscellaneous_quantuties.jl` contains functions for computing e.g., inverse participation ratios, and  \n",
    "    `Transform.jl` contains a function for generating matrix representations of the transformation to the reciprocal space.\n",
    "    \n",
    "    \n",
    "Note that the package was rather speedily gathered together and might therefore have some bugs in it. When connected to the University of Oulu intranet, the package is available at `https://version.oulu.fi/nanomo_quantum/bosonicstuff.jl.git`. Like any Julia package, it can be loaded as follows:"
   ]
  },
  {
   "cell_type": "code",
   "execution_count": null,
   "id": "d61c7a2b-6933-4369-9d8f-bdbb927ba86a",
   "metadata": {},
   "outputs": [],
   "source": [
    "# When connected to the intranet, the line\n",
    "# ]add https://version.oulu.fi/nanomo_quantum/bosonicstuff.jl.git\n",
    "# clones the package to the local machine. It can then be loaded as\n",
    "using BosonicStuff"
   ]
  },
  {
   "cell_type": "markdown",
   "id": "e0f1a400-b1ab-493c-ae29-26816cd3c330",
   "metadata": {},
   "source": [
    "## Basis.jl\n",
    "\n",
    "This file contains the definitions for objects of the abstract type `Basis`. There are currently three concrete subtypes of `Basis`:  \n",
    "`Basis_constant_N` for a basis with a constant number of bosons `N`,  \n",
    "`Basis_global_max_N` for a basis where the maximum number of bosons in a basis state is `N`, and  \n",
    "`Basis_local_max_N` for a basis where the maximum number of bosons in each site of a basis state is `N`.\n",
    "\n",
    "Each of these subtypes contains only the lenght of the chain `L` (number of sites in an array) and the number of bosons `N`, the exact meaning of which depends on the subtype. See the below cell for an example of usage.\n"
   ]
  },
  {
   "cell_type": "code",
   "execution_count": null,
   "id": "68aa1ed1-6e88-4eaa-b416-9f2d62168362",
   "metadata": {},
   "outputs": [],
   "source": [
    "function basis_test(L, N)\n",
    "    # a basis is generated simply as\n",
    "    basis = Basis_constant_N(L, N)\n",
    "    \n",
    "    # one can get the dimension of the basis with\n",
    "    println(\"the dimension is \", length(basis), \"\\n\") # or equivalently with dimension(basis)\n",
    "    \n",
    "    i = rand(1:length(basis))\n",
    "    # the ith basis vector is given by\n",
    "    println(\"the ith basis vector is \", basis[i], \", i = \", i, \"\\n\")\n",
    "    \n",
    "    fock = [0, 1, 0, 1]\n",
    "    # the index of a given basis state is given by\n",
    "    println(\"the index of the state \", fock, \" is \", find_index(basis, fock), \"\\n\")\n",
    "    \n",
    "    # the basis objects are also iterable\n",
    "    println(basis, \" contains the following basis vectors:\" )\n",
    "    for fock in basis\n",
    "        println(fock)\n",
    "    end\n",
    "    \n",
    "end\n",
    "\n",
    "basis_test(4, 2)"
   ]
  },
  {
   "cell_type": "markdown",
   "id": "3a372d5d-d1f4-4d18-b16a-dca0da42c88e",
   "metadata": {},
   "source": [
    "`Basis.jl` also contains functions for initialising product states in the bases and printing state vectors:"
   ]
  },
  {
   "cell_type": "code",
   "execution_count": null,
   "id": "5e80e988-02f0-43bc-bb75-4c2b7738bc7a",
   "metadata": {},
   "outputs": [],
   "source": [
    "using LinearAlgebra\n",
    "\n",
    "function state_test()\n",
    "    basis = Basis_constant_N(4, 2)\n",
    "    fock = [0, 1, 0, 1]\n",
    "    \n",
    "    state = product_state(basis, fock) # state[find_index(basis, fock)] = 1.\n",
    "    state += product_state(basis, (2, 3))\n",
    "    normalize!(state) # from LinearAlgebra\n",
    "    \n",
    "    print_state(basis, state)\n",
    "end\n",
    "\n",
    "state_test()\n"
   ]
  },
  {
   "cell_type": "code",
   "execution_count": null,
   "id": "332717da-3969-41da-9549-3ab0584af768",
   "metadata": {},
   "outputs": [],
   "source": [
    "?product_state"
   ]
  },
  {
   "cell_type": "markdown",
   "id": "1198e3ce-2975-46ef-987d-68fe5a6a4b4b",
   "metadata": {},
   "source": [
    "## Operators.jl\n",
    "\n",
    "This file contains a function for generating matrix representations of operators. For example, the below generates a reflection symmetry operator: "
   ]
  },
  {
   "cell_type": "code",
   "execution_count": null,
   "id": "45302d8e",
   "metadata": {},
   "outputs": [],
   "source": [
    "function test_operator()\n",
    "    basis = Basis_constant_N(4, 2)\n",
    "    op = operator(basis, x -> (reverse(x), 1)) # reflection symmetry\n",
    "    \n",
    "    state = product_state(basis, [1, 0, 1, 0])\n",
    "    println(\"state before:\")\n",
    "    print_state(basis, state)\n",
    "    \n",
    "    println(\"state after:\")\n",
    "    state = op * state\n",
    "    print_state(basis, state)\n",
    "end\n",
    "\n",
    "test_operator()"
   ]
  },
  {
   "cell_type": "markdown",
   "id": "ac025835-3e43-4d2e-8808-53c9f4d32175",
   "metadata": {},
   "source": [
    "For more details on how to generate operators, see the documentation:"
   ]
  },
  {
   "cell_type": "code",
   "execution_count": null,
   "id": "8daf488d",
   "metadata": {},
   "outputs": [],
   "source": [
    "?operator"
   ]
  },
  {
   "cell_type": "markdown",
   "id": "99c21cab-11d1-4ead-a15a-626bf6872b8a",
   "metadata": {},
   "source": [
    "The file also contains some pre-written function for generating operators, such as the bosonic number operators (see ?number and ?numbers) and the attractive Bose-Hubbard Hamiltonian: "
   ]
  },
  {
   "cell_type": "code",
   "execution_count": null,
   "id": "86dd6765-c3d8-4784-ba10-5e7e035fbe9b",
   "metadata": {},
   "outputs": [],
   "source": [
    "?ABH_Hamiltonian"
   ]
  },
  {
   "cell_type": "markdown",
   "id": "ab06fb48-853a-4b23-a550-1def6e52b970",
   "metadata": {},
   "source": [
    "# Examples\n",
    "The rest of the package (`Trajectories.jl`, `Miscellaneous_quantities.jl`, and `Transform.jl`) is presented via examples reproducing some of the results of the papers listed at the top of this notebook. In the examples, we will be using the `Plots.jl` package for plotting the results and `LaTeXStrings.jl` for making the plot labels prettier. \n",
    "\n",
    "## Example 1: Ground state phase diagram [[1]](https://link.aps.org/doi/10.1103/PhysRevB.103.L220202)\n",
    "In the paper, the ground state phase diagram was made for a chain of length $L = 8$ with $N = 4$ bosons and averaged over 1000 realisations. In the below code, for a bit speedier calculation, I've set $L = 6$ and the number of realisations to 100. The ground states are computed with the `KrylovKit.jl` package, and the inverse participation  ratios are made into a plottable image with the `Images.jl` package. The computation process is parallelised if the kernel has been set up to use multiple threads."
   ]
  },
  {
   "cell_type": "code",
   "execution_count": null,
   "id": "5e16f270-1543-4d6c-9828-39b5d59aae7d",
   "metadata": {},
   "outputs": [],
   "source": [
    "using Plots, Images, KrylovKit, SparseArrays, LaTeXStrings\n",
    "using Base.Threads: @threads\n",
    "BLAS.set_num_threads(1) # no BLAS parallelisation\n",
    "\n",
    "logrange(x1, x2, n) = (10^y for y in range(log10(x1), log10(x2), length = n))\n",
    "\n",
    "function phase_diagrams(L, N, periodic = false)\n",
    "    τs = collect(range(0.05, 0.55, length = 50)) # scaled hopping frequencies\n",
    "    δs = collect(logrange(1e-3, 1, 30)) # scaled disorder strangths\n",
    "    realisations = 100\n",
    "    \n",
    "    basis = Basis_constant_N(L, N) # in Basis.jl\n",
    "    T = transform(basis, periodic = periodic) # Transform.jl\n",
    "    ns = numbers(basis) # Operators.jl\n",
    "    HU, HJ = ABH_Hamiltonian(basis, periodic = periodic)\n",
    "    \n",
    "    iprs_grid = zeros(length(δs), length(τs))\n",
    "    iprr_grid = zeros(length(δs), length(τs))\n",
    "    @threads for i in 1:length(τs)\n",
    "        H = spzeros(size(HU)) # pre-allocation to save a tiny bit on allocations\n",
    "        # we use the non-disordered ground state as the trial state to possibly speed things up\n",
    "        H0 = τs[i] * (N - 1) .* HJ .+ HU\n",
    "        vals, vecs, info = eigsolve(H0, 1, :SR) # solver from KrylovKit.jl\n",
    "        trial = vecs[1]\n",
    "        for j in 1:length(δs)\n",
    "            for r in 1:realisations\n",
    "                H .= H0 .+ δs[j] * (N - 1) .* number_disorder(basis)\n",
    "                vals, vecs, info = eigsolve(H, trial, 1, :SR)\n",
    "                iprs_grid[j, i] += inverse_participation_ratio(vecs[1], ns) # from Miscellaneous_quantities.jl\n",
    "                iprr_grid[j, i] += inverse_participation_ratio(T * vecs[1], ns)\n",
    "            end\n",
    "\n",
    "            iprs_grid[j, i] /= realisations\n",
    "            iprr_grid[j, i] /= realisations\n",
    "        end\n",
    "    end\n",
    "    \n",
    "    # create a picture using Images.jl\n",
    "    diagram = [RGB(iprr_grid[i, j], 0., iprs_grid[i, j]) for i in 1:length(δs), j in 1:length(τs)]\n",
    "    \n",
    "    # plot the picture using Plots.jl and LaTeXStrings.jl\n",
    "    p = plot(τs, δs, diagram, xlabel = \"τ\", ylabel = \"δ\", flip = false, yflip = false, xlim = (0.05, 0.55), ylim = (1e-3, 0), aspect_ratio = 0.33, yticks = ([0, 0.333, 0.667, 1.], [L\"10^{-3}\", L\"10^{-2}\", L\"10^{-1}\", L\"10^0\"]), fontfamily = \"Computer Modern\", tickfontsize = 12, guidefontsize = 14)\n",
    "    display(p)\n",
    "end\n",
    "\n",
    "\n",
    "@time phase_diagrams(6, 4)"
   ]
  },
  {
   "cell_type": "markdown",
   "id": "04aaedfe-9b5d-4253-9d29-af8b739b52b3",
   "metadata": {},
   "source": [
    "## Example 2: Unitary dynamics [[2]](https://link.aps.org/doi/10.1103/PRXQuantum.3.040314)\n",
    "The below example reproduces Fig. 4(a). of the paper [[2]](https://link.aps.org/doi/10.1103/PRXQuantum.3.040314). The other one-dimensional chain figures can be reproduced by changing the input `fock` to match the initial state."
   ]
  },
  {
   "cell_type": "code",
   "execution_count": null,
   "id": "f0d7569c-30ac-454f-8bd7-3cba610cb247",
   "metadata": {},
   "outputs": [],
   "source": [
    "using Plots, LaTeXStrings\n",
    "\n",
    "function unitary_dynamics(fock)\n",
    "    J = 0.01 * 2 * pi; U = 0.23 * 2 * pi # values in GHz, corresponding time unit is ns\n",
    "    end_time = 4e4; saves = 200\n",
    "    basis = Basis_constant_N(length(fock), sum(fock))\n",
    "    \n",
    "    # Hamiltonian\n",
    "    H = ABH_Hamiltonian(basis, J = J, U = U, split = false)\n",
    "    \n",
    "    # Set up the initial state from fock\n",
    "    state = product_state(basis, fock)\n",
    "    \n",
    "    # Set up what outputs to compute as a vector of funtions. In this case, the on-site occupations\n",
    "    output_functions::Vector{Function} = []\n",
    "    for l in 1:basis.L\n",
    "        push!(output_functions, ψ -> real(ψ' * number(basis, l) * ψ))\n",
    "    end\n",
    "    \n",
    "    # run a single unitary trajectory\n",
    "    output = run_trajectories(basis, H, state, output_functions, end_time, saves = saves, krylov_dimension = 15, dt = 0.5)\n",
    "    \n",
    "    # plot the output\n",
    "    time = range(0, end_time * 1e-3, saves + 1) # NB the length of the output is saves + 1\n",
    "    sites = collect(1:basis.L)\n",
    "    colors = cgrad(:lajolla, rev = true)\n",
    "    pic = zeros(saves, basis.L)\n",
    "    for l in 1:basis.L\n",
    "        pic[:, l] .= output[l]\n",
    "    end\n",
    "    \n",
    "    p = heatmap(sites, time, pic, c = colors, size = (400, 400))\n",
    "    display(p)\n",
    "end\n",
    "\n",
    "@time unitary_dynamics([3, 0, 3, 0, 0])"
   ]
  },
  {
   "cell_type": "markdown",
   "id": "468cbbc0-fbf2-44ee-ab73-2579ca588890",
   "metadata": {},
   "source": [
    "## Example 3: Nonunitary dynamics [[3]](http://arxiv.org/abs/2301.07025)\n",
    "The below example reproduces Fig. 4(b). of the paper [[3]](http://arxiv.org/abs/2301.07025), although with a much smaller number of realisations. The function `run_trajectories` is parallelised using the built-in module `Distributed`. "
   ]
  },
  {
   "cell_type": "code",
   "execution_count": 7,
   "id": "1ce76ed7-c00f-4ab6-baae-7b481ca713f1",
   "metadata": {},
   "outputs": [
    {
     "data": {
      "image/svg+xml": [
       "<?xml version=\"1.0\" encoding=\"utf-8\"?>\n",
       "<svg xmlns=\"http://www.w3.org/2000/svg\" xmlns:xlink=\"http://www.w3.org/1999/xlink\" width=\"600\" height=\"400\" viewBox=\"0 0 2400 1600\">\n",
       "<defs>\n",
       "  <clipPath id=\"clip520\">\n",
       "    <rect x=\"0\" y=\"0\" width=\"2400\" height=\"1600\"/>\n",
       "  </clipPath>\n",
       "</defs>\n",
       "<path clip-path=\"url(#clip520)\" d=\"M0 1600 L2400 1600 L2400 0 L0 0  Z\" fill=\"#ffffff\" fill-rule=\"evenodd\" fill-opacity=\"1\"/>\n",
       "<defs>\n",
       "  <clipPath id=\"clip521\">\n",
       "    <rect x=\"480\" y=\"0\" width=\"1681\" height=\"1600\"/>\n",
       "  </clipPath>\n",
       "</defs>\n",
       "<defs>\n",
       "  <clipPath id=\"clip522\">\n",
       "    <rect x=\"195\" y=\"47\" width=\"2159\" height=\"1347\"/>\n",
       "  </clipPath>\n",
       "</defs>\n",
       "<path clip-path=\"url(#clip520)\" d=\"M195.162 1392.94 L2352.76 1392.94 L2352.76 47.2441 L195.162 47.2441  Z\" fill=\"#ffffff\" fill-rule=\"evenodd\" fill-opacity=\"1\"/>\n",
       "<polyline clip-path=\"url(#clip522)\" style=\"stroke:#000000; stroke-linecap:round; stroke-linejoin:round; stroke-width:2; stroke-opacity:0.1; fill:none\" points=\"256.226,1392.94 256.226,47.2441 \"/>\n",
       "<polyline clip-path=\"url(#clip522)\" style=\"stroke:#000000; stroke-linecap:round; stroke-linejoin:round; stroke-width:2; stroke-opacity:0.1; fill:none\" points=\"765.092,1392.94 765.092,47.2441 \"/>\n",
       "<polyline clip-path=\"url(#clip522)\" style=\"stroke:#000000; stroke-linecap:round; stroke-linejoin:round; stroke-width:2; stroke-opacity:0.1; fill:none\" points=\"1273.96,1392.94 1273.96,47.2441 \"/>\n",
       "<polyline clip-path=\"url(#clip522)\" style=\"stroke:#000000; stroke-linecap:round; stroke-linejoin:round; stroke-width:2; stroke-opacity:0.1; fill:none\" points=\"1782.83,1392.94 1782.83,47.2441 \"/>\n",
       "<polyline clip-path=\"url(#clip522)\" style=\"stroke:#000000; stroke-linecap:round; stroke-linejoin:round; stroke-width:2; stroke-opacity:0.1; fill:none\" points=\"2291.69,1392.94 2291.69,47.2441 \"/>\n",
       "<polyline clip-path=\"url(#clip520)\" style=\"stroke:#000000; stroke-linecap:round; stroke-linejoin:round; stroke-width:4; stroke-opacity:1; fill:none\" points=\"195.162,1392.94 2352.76,1392.94 \"/>\n",
       "<polyline clip-path=\"url(#clip520)\" style=\"stroke:#000000; stroke-linecap:round; stroke-linejoin:round; stroke-width:4; stroke-opacity:1; fill:none\" points=\"256.226,1392.94 256.226,1374.04 \"/>\n",
       "<polyline clip-path=\"url(#clip520)\" style=\"stroke:#000000; stroke-linecap:round; stroke-linejoin:round; stroke-width:4; stroke-opacity:1; fill:none\" points=\"765.092,1392.94 765.092,1374.04 \"/>\n",
       "<polyline clip-path=\"url(#clip520)\" style=\"stroke:#000000; stroke-linecap:round; stroke-linejoin:round; stroke-width:4; stroke-opacity:1; fill:none\" points=\"1273.96,1392.94 1273.96,1374.04 \"/>\n",
       "<polyline clip-path=\"url(#clip520)\" style=\"stroke:#000000; stroke-linecap:round; stroke-linejoin:round; stroke-width:4; stroke-opacity:1; fill:none\" points=\"1782.83,1392.94 1782.83,1374.04 \"/>\n",
       "<polyline clip-path=\"url(#clip520)\" style=\"stroke:#000000; stroke-linecap:round; stroke-linejoin:round; stroke-width:4; stroke-opacity:1; fill:none\" points=\"2291.69,1392.94 2291.69,1374.04 \"/>\n",
       "<path clip-path=\"url(#clip520)\" d=\"M210.741 1452.67 Q210.741 1441.52 213.557 1435.44 Q217.485 1426.4 226.748 1426.4 Q228.712 1426.4 230.75 1426.95 Q232.825 1427.47 235.419 1429.51 Q238.05 1431.55 239.643 1434.88 Q242.682 1441.33 242.682 1452.67 Q242.682 1463.75 239.866 1469.79 Q235.753 1478.61 226.674 1478.61 Q223.265 1478.61 219.782 1476.87 Q216.336 1475.12 214.15 1470.94 Q210.741 1464.67 210.741 1452.67 M217.04 1451.74 Q217.04 1463.19 217.855 1467.75 Q218.781 1472.68 221.301 1474.83 Q223.858 1476.94 226.674 1476.94 Q229.713 1476.94 232.232 1474.68 Q234.789 1472.38 235.567 1467.45 Q236.42 1462.6 236.383 1451.74 Q236.383 1441.18 235.642 1436.96 Q234.641 1432.03 231.973 1430.07 Q229.342 1428.06 226.674 1428.06 Q225.674 1428.06 224.599 1428.36 Q223.562 1428.66 222.042 1429.51 Q220.523 1430.36 219.337 1432.47 Q218.189 1434.59 217.633 1437.77 Q217.04 1441.89 217.04 1451.74 Z\" fill=\"#000000\" fill-rule=\"nonzero\" fill-opacity=\"1\" /><path clip-path=\"url(#clip520)\" d=\"M253.317 1475.72 Q252.168 1474.49 252.168 1472.9 Q252.168 1471.31 253.317 1470.16 Q254.465 1468.97 256.207 1468.97 Q257.875 1468.97 258.986 1470.08 Q260.135 1471.16 260.135 1472.94 Q260.135 1474.68 258.912 1475.83 Q257.726 1476.94 256.207 1476.94 Q254.465 1476.94 253.317 1475.72 Z\" fill=\"#000000\" fill-rule=\"nonzero\" fill-opacity=\"1\" /><path clip-path=\"url(#clip520)\" d=\"M269.769 1452.67 Q269.769 1441.52 272.585 1435.44 Q276.513 1426.4 285.777 1426.4 Q287.741 1426.4 289.779 1426.95 Q291.854 1427.47 294.448 1429.51 Q297.079 1431.55 298.672 1434.88 Q301.711 1441.33 301.711 1452.67 Q301.711 1463.75 298.894 1469.79 Q294.781 1478.61 285.703 1478.61 Q282.294 1478.61 278.811 1476.87 Q275.365 1475.12 273.178 1470.94 Q269.769 1464.67 269.769 1452.67 M276.069 1451.74 Q276.069 1463.19 276.884 1467.75 Q277.81 1472.68 280.33 1474.83 Q282.887 1476.94 285.703 1476.94 Q288.741 1476.94 291.261 1474.68 Q293.818 1472.38 294.596 1467.45 Q295.448 1462.6 295.411 1451.74 Q295.411 1441.18 294.67 1436.96 Q293.67 1432.03 291.002 1430.07 Q288.371 1428.06 285.703 1428.06 Q284.702 1428.06 283.628 1428.36 Q282.59 1428.66 281.071 1429.51 Q279.552 1430.36 278.366 1432.47 Q277.217 1434.59 276.661 1437.77 Q276.069 1441.89 276.069 1451.74 Z\" fill=\"#000000\" fill-rule=\"nonzero\" fill-opacity=\"1\" /><path clip-path=\"url(#clip520)\" d=\"M720.015 1452.67 Q720.015 1441.52 722.831 1435.44 Q726.759 1426.4 736.022 1426.4 Q737.986 1426.4 740.024 1426.95 Q742.1 1427.47 744.693 1429.51 Q747.324 1431.55 748.918 1434.88 Q751.956 1441.33 751.956 1452.67 Q751.956 1463.75 749.14 1469.79 Q745.027 1478.61 735.948 1478.61 Q732.539 1478.61 729.056 1476.87 Q725.61 1475.12 723.424 1470.94 Q720.015 1464.67 720.015 1452.67 M726.314 1451.74 Q726.314 1463.19 727.129 1467.75 Q728.056 1472.68 730.575 1474.83 Q733.132 1476.94 735.948 1476.94 Q738.987 1476.94 741.507 1474.68 Q744.063 1472.38 744.842 1467.45 Q745.694 1462.6 745.657 1451.74 Q745.657 1441.18 744.916 1436.96 Q743.915 1432.03 741.247 1430.07 Q738.616 1428.06 735.948 1428.06 Q734.948 1428.06 733.873 1428.36 Q732.836 1428.66 731.317 1429.51 Q729.797 1430.36 728.611 1432.47 Q727.463 1434.59 726.907 1437.77 Q726.314 1441.89 726.314 1451.74 Z\" fill=\"#000000\" fill-rule=\"nonzero\" fill-opacity=\"1\" /><path clip-path=\"url(#clip520)\" d=\"M762.591 1475.72 Q761.442 1474.49 761.442 1472.9 Q761.442 1471.31 762.591 1470.16 Q763.74 1468.97 765.481 1468.97 Q767.149 1468.97 768.26 1470.08 Q769.409 1471.16 769.409 1472.94 Q769.409 1474.68 768.186 1475.83 Q767.001 1476.94 765.481 1476.94 Q763.74 1476.94 762.591 1475.72 Z\" fill=\"#000000\" fill-rule=\"nonzero\" fill-opacity=\"1\" /><path clip-path=\"url(#clip520)\" d=\"M779.859 1464.71 Q779.859 1462.45 781.081 1461.6 Q782.304 1460.71 783.601 1460.71 Q785.343 1460.71 786.343 1461.82 Q787.381 1462.9 787.381 1464.42 Q787.381 1465.93 786.343 1467.05 Q785.343 1468.12 783.601 1468.12 Q782.749 1468.12 782.304 1467.97 Q783.305 1471.46 786.343 1473.98 Q789.419 1476.5 793.458 1476.5 Q798.534 1476.5 801.573 1471.57 Q803.389 1468.38 803.389 1461.15 Q803.389 1454.78 802.018 1451.59 Q799.905 1446.74 795.57 1446.74 Q789.419 1446.74 785.787 1452.04 Q785.343 1452.71 784.824 1452.74 Q784.083 1452.74 783.898 1452.34 Q783.749 1451.89 783.749 1450.74 L783.749 1428.29 Q783.749 1426.47 784.49 1426.47 Q784.787 1426.47 785.417 1426.69 Q790.197 1428.81 795.496 1428.84 Q800.943 1428.84 805.834 1426.62 Q806.205 1426.4 806.427 1426.4 Q807.168 1426.4 807.205 1427.25 Q807.205 1427.55 806.575 1428.43 Q805.982 1429.29 804.685 1430.44 Q803.389 1431.55 801.721 1432.62 Q800.054 1433.7 797.608 1434.44 Q795.199 1435.14 792.531 1435.14 Q789.345 1435.14 786.084 1434.14 L786.084 1448.93 Q790.012 1445.07 795.718 1445.07 Q801.795 1445.07 805.982 1449.96 Q810.17 1454.86 810.17 1461.67 Q810.17 1468.82 805.204 1473.72 Q800.276 1478.61 793.606 1478.61 Q787.529 1478.61 783.675 1474.27 Q779.859 1469.94 779.859 1464.71 Z\" fill=\"#000000\" fill-rule=\"nonzero\" fill-opacity=\"1\" /><path clip-path=\"url(#clip520)\" d=\"M1230.36 1433.62 L1230.36 1431.25 Q1239.48 1431.25 1244.19 1426.4 Q1245.48 1426.4 1245.7 1426.69 Q1245.93 1426.99 1245.93 1428.36 L1245.93 1470.94 Q1245.93 1473.2 1247.04 1473.9 Q1248.15 1474.61 1253 1474.61 L1255.41 1474.61 L1255.41 1476.94 Q1252.74 1476.72 1243.11 1476.72 Q1233.48 1476.72 1230.85 1476.94 L1230.85 1474.61 L1233.25 1474.61 Q1238.03 1474.61 1239.18 1473.94 Q1240.33 1473.23 1240.33 1470.94 L1240.33 1431.62 Q1236.37 1433.62 1230.36 1433.62 Z\" fill=\"#000000\" fill-rule=\"nonzero\" fill-opacity=\"1\" /><path clip-path=\"url(#clip520)\" d=\"M1269.16 1475.72 Q1268.01 1474.49 1268.01 1472.9 Q1268.01 1471.31 1269.16 1470.16 Q1270.31 1468.97 1272.05 1468.97 Q1273.72 1468.97 1274.83 1470.08 Q1275.98 1471.16 1275.98 1472.94 Q1275.98 1474.68 1274.76 1475.83 Q1273.57 1476.94 1272.05 1476.94 Q1270.31 1476.94 1269.16 1475.72 Z\" fill=\"#000000\" fill-rule=\"nonzero\" fill-opacity=\"1\" /><path clip-path=\"url(#clip520)\" d=\"M1285.61 1452.67 Q1285.61 1441.52 1288.43 1435.44 Q1292.36 1426.4 1301.62 1426.4 Q1303.58 1426.4 1305.62 1426.95 Q1307.7 1427.47 1310.29 1429.51 Q1312.92 1431.55 1314.52 1434.88 Q1317.55 1441.33 1317.55 1452.67 Q1317.55 1463.75 1314.74 1469.79 Q1310.62 1478.61 1301.55 1478.61 Q1298.14 1478.61 1294.65 1476.87 Q1291.21 1475.12 1289.02 1470.94 Q1285.61 1464.67 1285.61 1452.67 M1291.91 1451.74 Q1291.91 1463.19 1292.73 1467.75 Q1293.65 1472.68 1296.17 1474.83 Q1298.73 1476.94 1301.55 1476.94 Q1304.58 1476.94 1307.1 1474.68 Q1309.66 1472.38 1310.44 1467.45 Q1311.29 1462.6 1311.25 1451.74 Q1311.25 1441.18 1310.51 1436.96 Q1309.51 1432.03 1306.85 1430.07 Q1304.21 1428.06 1301.55 1428.06 Q1300.55 1428.06 1299.47 1428.36 Q1298.43 1428.66 1296.91 1429.51 Q1295.4 1430.36 1294.21 1432.47 Q1293.06 1434.59 1292.5 1437.77 Q1291.91 1441.89 1291.91 1451.74 Z\" fill=\"#000000\" fill-rule=\"nonzero\" fill-opacity=\"1\" /><path clip-path=\"url(#clip520)\" d=\"M1739.64 1433.62 L1739.64 1431.25 Q1748.75 1431.25 1753.46 1426.4 Q1754.76 1426.4 1754.98 1426.69 Q1755.2 1426.99 1755.2 1428.36 L1755.2 1470.94 Q1755.2 1473.2 1756.31 1473.9 Q1757.42 1474.61 1762.28 1474.61 L1764.69 1474.61 L1764.69 1476.94 Q1762.02 1476.72 1752.38 1476.72 Q1742.75 1476.72 1740.12 1476.94 L1740.12 1474.61 L1742.53 1474.61 Q1747.31 1474.61 1748.46 1473.94 Q1749.61 1473.23 1749.61 1470.94 L1749.61 1431.62 Q1745.64 1433.62 1739.64 1433.62 Z\" fill=\"#000000\" fill-rule=\"nonzero\" fill-opacity=\"1\" /><path clip-path=\"url(#clip520)\" d=\"M1778.43 1475.72 Q1777.29 1474.49 1777.29 1472.9 Q1777.29 1471.31 1778.43 1470.16 Q1779.58 1468.97 1781.32 1468.97 Q1782.99 1468.97 1784.1 1470.08 Q1785.25 1471.16 1785.25 1472.94 Q1785.25 1474.68 1784.03 1475.83 Q1782.84 1476.94 1781.32 1476.94 Q1779.58 1476.94 1778.43 1475.72 Z\" fill=\"#000000\" fill-rule=\"nonzero\" fill-opacity=\"1\" /><path clip-path=\"url(#clip520)\" d=\"M1795.7 1464.71 Q1795.7 1462.45 1796.92 1461.6 Q1798.15 1460.71 1799.44 1460.71 Q1801.19 1460.71 1802.19 1461.82 Q1803.22 1462.9 1803.22 1464.42 Q1803.22 1465.93 1802.19 1467.05 Q1801.19 1468.12 1799.44 1468.12 Q1798.59 1468.12 1798.15 1467.97 Q1799.15 1471.46 1802.19 1473.98 Q1805.26 1476.5 1809.3 1476.5 Q1814.38 1476.5 1817.42 1471.57 Q1819.23 1468.38 1819.23 1461.15 Q1819.23 1454.78 1817.86 1451.59 Q1815.75 1446.74 1811.41 1446.74 Q1805.26 1446.74 1801.63 1452.04 Q1801.19 1452.71 1800.67 1452.74 Q1799.93 1452.74 1799.74 1452.34 Q1799.59 1451.89 1799.59 1450.74 L1799.59 1428.29 Q1799.59 1426.47 1800.33 1426.47 Q1800.63 1426.47 1801.26 1426.69 Q1806.04 1428.81 1811.34 1428.84 Q1816.79 1428.84 1821.68 1426.62 Q1822.05 1426.4 1822.27 1426.4 Q1823.01 1426.4 1823.05 1427.25 Q1823.05 1427.55 1822.42 1428.43 Q1821.83 1429.29 1820.53 1430.44 Q1819.23 1431.55 1817.56 1432.62 Q1815.9 1433.7 1813.45 1434.44 Q1811.04 1435.14 1808.37 1435.14 Q1805.19 1435.14 1801.93 1434.14 L1801.93 1448.93 Q1805.86 1445.07 1811.56 1445.07 Q1817.64 1445.07 1821.83 1449.96 Q1826.01 1454.86 1826.01 1461.67 Q1826.01 1468.82 1821.05 1473.72 Q1816.12 1478.61 1809.45 1478.61 Q1803.37 1478.61 1799.52 1474.27 Q1795.7 1469.94 1795.7 1464.71 Z\" fill=\"#000000\" fill-rule=\"nonzero\" fill-opacity=\"1\" /><path clip-path=\"url(#clip520)\" d=\"M2246.61 1476.94 Q2246.61 1475.57 2246.73 1475.16 Q2246.87 1474.75 2247.47 1474.12 L2262.03 1457.89 Q2270 1448.93 2270 1441.11 Q2270 1436.03 2267.33 1432.4 Q2264.7 1428.77 2259.84 1428.77 Q2256.51 1428.77 2253.69 1430.81 Q2250.88 1432.84 2249.58 1436.48 Q2249.8 1436.4 2250.58 1436.4 Q2252.47 1436.4 2253.51 1437.59 Q2254.58 1438.77 2254.58 1440.37 Q2254.58 1442.4 2253.25 1443.41 Q2251.95 1444.37 2250.65 1444.37 Q2250.13 1444.37 2249.43 1444.26 Q2248.76 1444.15 2247.69 1443.11 Q2246.61 1442.03 2246.61 1440.14 Q2246.61 1434.85 2250.62 1430.62 Q2254.66 1426.4 2260.81 1426.4 Q2267.77 1426.4 2272.33 1430.55 Q2276.93 1434.66 2276.93 1441.11 Q2276.93 1443.37 2276.22 1445.44 Q2275.55 1447.48 2274.63 1449.07 Q2273.74 1450.67 2271.29 1453.22 Q2268.85 1455.78 2266.88 1457.6 Q2264.92 1459.41 2260.51 1463.27 L2252.47 1471.09 L2266.14 1471.09 Q2272.81 1471.09 2273.33 1470.49 Q2274.07 1469.42 2275 1463.75 L2276.93 1463.75 L2274.78 1476.94 L2246.61 1476.94 Z\" fill=\"#000000\" fill-rule=\"nonzero\" fill-opacity=\"1\" /><path clip-path=\"url(#clip520)\" d=\"M2288.38 1475.72 Q2287.23 1474.49 2287.23 1472.9 Q2287.23 1471.31 2288.38 1470.16 Q2289.52 1468.97 2291.27 1468.97 Q2292.93 1468.97 2294.04 1470.08 Q2295.19 1471.16 2295.19 1472.94 Q2295.19 1474.68 2293.97 1475.83 Q2292.79 1476.94 2291.27 1476.94 Q2289.52 1476.94 2288.38 1475.72 Z\" fill=\"#000000\" fill-rule=\"nonzero\" fill-opacity=\"1\" /><path clip-path=\"url(#clip520)\" d=\"M2304.83 1452.67 Q2304.83 1441.52 2307.64 1435.44 Q2311.57 1426.4 2320.84 1426.4 Q2322.8 1426.4 2324.84 1426.95 Q2326.91 1427.47 2329.51 1429.51 Q2332.14 1431.55 2333.73 1434.88 Q2336.77 1441.33 2336.77 1452.67 Q2336.77 1463.75 2333.95 1469.79 Q2329.84 1478.61 2320.76 1478.61 Q2317.35 1478.61 2313.87 1476.87 Q2310.42 1475.12 2308.24 1470.94 Q2304.83 1464.67 2304.83 1452.67 M2311.13 1451.74 Q2311.13 1463.19 2311.94 1467.75 Q2312.87 1472.68 2315.39 1474.83 Q2317.95 1476.94 2320.76 1476.94 Q2323.8 1476.94 2326.32 1474.68 Q2328.88 1472.38 2329.65 1467.45 Q2330.51 1462.6 2330.47 1451.74 Q2330.47 1441.18 2329.73 1436.96 Q2328.73 1432.03 2326.06 1430.07 Q2323.43 1428.06 2320.76 1428.06 Q2319.76 1428.06 2318.69 1428.36 Q2317.65 1428.66 2316.13 1429.51 Q2314.61 1430.36 2313.42 1432.47 Q2312.28 1434.59 2311.72 1437.77 Q2311.13 1441.89 2311.13 1451.74 Z\" fill=\"#000000\" fill-rule=\"nonzero\" fill-opacity=\"1\" /><path clip-path=\"url(#clip520)\" d=\"M1217.19 1533.29 Q1217.19 1534.44 1216.66 1534.73 Q1216.13 1534.97 1214.65 1534.97 L1206.78 1534.97 L1200.55 1559.73 Q1200.06 1561.9 1200.06 1563.75 Q1200.06 1565.8 1200.67 1566.7 Q1201.33 1567.6 1202.68 1567.6 Q1205.35 1567.6 1208.22 1565.18 Q1211.13 1562.76 1213.59 1556.86 Q1213.91 1556.08 1214.08 1555.92 Q1214.28 1555.71 1214.82 1555.71 Q1215.84 1555.71 1215.84 1556.53 Q1215.84 1556.82 1215.27 1558.13 Q1214.73 1559.44 1213.54 1561.37 Q1212.4 1563.3 1210.88 1565.1 Q1209.4 1566.9 1207.15 1568.21 Q1204.9 1569.49 1202.48 1569.49 Q1199.08 1569.49 1196.9 1567.31 Q1194.77 1565.14 1194.77 1561.74 Q1194.77 1560.63 1195.63 1557.11 Q1196.49 1553.54 1201.17 1534.97 L1193.75 1534.97 Q1192.72 1534.97 1192.31 1534.93 Q1191.94 1534.89 1191.66 1534.69 Q1191.41 1534.44 1191.41 1533.95 Q1191.41 1533.17 1191.74 1532.84 Q1192.07 1532.47 1192.48 1532.43 Q1192.93 1532.35 1193.95 1532.35 L1201.82 1532.35 L1205.1 1519.03 Q1205.43 1517.72 1206.25 1516.98 Q1207.11 1516.2 1207.6 1516.12 Q1208.09 1515.99 1208.46 1515.99 Q1209.57 1515.99 1210.22 1516.61 Q1210.88 1517.18 1210.88 1518.25 Q1210.88 1518.82 1207.44 1532.35 L1214.82 1532.35 Q1215.76 1532.35 1216.13 1532.39 Q1216.54 1532.43 1216.86 1532.64 Q1217.19 1532.84 1217.19 1533.29 Z\" fill=\"#000000\" fill-rule=\"nonzero\" fill-opacity=\"1\" /><path clip-path=\"url(#clip520)\" d=\"M1221.41 1546.41 Q1221.41 1531.45 1226.99 1519.39 Q1229.37 1514.33 1232.69 1510.09 Q1236.02 1505.86 1238.23 1504 Q1240.43 1502.14 1241.04 1502.14 Q1241.9 1502.14 1241.95 1503 Q1241.95 1503.44 1240.78 1504.52 Q1226.51 1519.04 1226.56 1546.41 Q1226.56 1573.86 1240.43 1587.82 Q1241.95 1589.34 1241.95 1589.81 Q1241.95 1590.68 1241.04 1590.68 Q1240.43 1590.68 1238.31 1588.9 Q1236.2 1587.13 1232.91 1583.07 Q1229.62 1579 1227.25 1574.03 Q1221.41 1561.97 1221.41 1546.41 Z\" fill=\"#000000\" fill-rule=\"nonzero\" fill-opacity=\"1\" /><path clip-path=\"url(#clip520)\" d=\"M1249.68 1583.07 L1250.59 1583.07 Q1254.74 1583.07 1255.65 1582.25 Q1256.6 1581.47 1256.6 1578.53 L1256.6 1538.28 Q1256.6 1534.91 1255.48 1534.13 Q1254.4 1533.31 1250.94 1533.14 L1249.68 1533.14 L1249.68 1530.46 L1262.83 1529.51 L1262.83 1558.08 Q1262.83 1560.37 1262.96 1561.63 Q1263.09 1562.88 1263.78 1564.48 Q1264.51 1566.08 1266.11 1566.77 Q1267.75 1567.46 1270.52 1567.46 Q1274.5 1567.46 1277.87 1564.09 Q1281.24 1560.67 1281.24 1553.15 Q1281.24 1552.81 1281.2 1552.07 Q1281.16 1551.29 1281.16 1550.9 L1281.16 1537.55 Q1281.07 1534.82 1279.77 1534 Q1278.48 1533.14 1274.76 1533.14 L1274.33 1533.14 L1274.33 1530.46 L1287.34 1529.51 L1287.34 1561.19 Q1287.34 1564.13 1288.59 1565 Q1289.89 1565.82 1293.78 1565.82 L1294.25 1565.82 L1294.25 1568.54 L1281.42 1569.54 L1281.42 1561.71 Q1277.87 1569.49 1269.96 1569.54 Q1266.24 1569.54 1262.83 1568.37 L1262.83 1579.09 Q1262.83 1581.64 1263.86 1582.33 Q1264.94 1583.07 1269.18 1583.07 L1269.61 1583.07 L1269.61 1585.79 Q1264.47 1585.53 1259.37 1585.53 L1259.02 1585.53 Q1254.87 1585.53 1249.68 1585.79 L1249.68 1583.07 Z\" fill=\"#000000\" fill-rule=\"nonzero\" fill-opacity=\"1\" /><path clip-path=\"url(#clip520)\" d=\"M1299.01 1567.38 L1299.01 1555.7 Q1299.01 1554.71 1299.05 1554.36 Q1299.1 1554.02 1299.36 1553.76 Q1299.62 1553.5 1300.13 1553.5 Q1300.74 1553.5 1300.96 1553.76 Q1301.21 1554.02 1301.39 1555.01 Q1302.73 1561.11 1305.58 1564.35 Q1308.48 1567.55 1313.71 1567.55 Q1318.68 1567.55 1321.19 1565.34 Q1323.69 1563.14 1323.69 1559.51 Q1323.69 1553.02 1314.49 1551.38 Q1309.17 1550.3 1306.96 1549.61 Q1304.76 1548.87 1302.81 1547.27 Q1299.01 1544.16 1299.01 1539.75 Q1299.01 1535.34 1302.34 1532.1 Q1305.71 1528.86 1313.15 1528.86 Q1318.12 1528.86 1321.49 1531.36 Q1322.48 1530.59 1323 1529.94 Q1324.17 1528.86 1324.78 1528.86 Q1325.47 1528.86 1325.6 1529.33 Q1325.73 1529.76 1325.73 1531.02 L1325.73 1539.92 Q1325.73 1540.92 1325.68 1541.26 Q1325.64 1541.61 1325.38 1541.87 Q1325.12 1542.09 1324.56 1542.09 Q1323.57 1542.09 1323.52 1541.26 Q1322.83 1530.54 1313.15 1530.54 Q1307.92 1530.54 1305.58 1532.57 Q1303.25 1534.56 1303.25 1537.29 Q1303.25 1538.8 1303.94 1539.97 Q1304.67 1541.09 1305.58 1541.78 Q1306.53 1542.43 1308.26 1543.08 Q1309.99 1543.68 1311.03 1543.9 Q1312.11 1544.12 1314.14 1544.55 Q1321.23 1545.89 1324.21 1548.79 Q1327.93 1552.5 1327.93 1557.22 Q1327.93 1562.45 1324.39 1565.99 Q1320.84 1569.54 1313.71 1569.54 Q1307.96 1569.54 1303.94 1565.69 Q1303.42 1566.21 1303.03 1566.68 Q1302.64 1567.12 1302.47 1567.29 Q1302.34 1567.46 1302.3 1567.59 Q1302.25 1567.68 1302.17 1567.76 Q1300.39 1569.54 1299.96 1569.54 Q1299.27 1569.54 1299.14 1569.06 Q1299.01 1568.63 1299.01 1567.38 Z\" fill=\"#000000\" fill-rule=\"nonzero\" fill-opacity=\"1\" /><path clip-path=\"url(#clip520)\" d=\"M1335.97 1589.81 Q1335.97 1589.38 1337.1 1588.3 Q1351.36 1573.77 1351.36 1546.41 Q1351.36 1518.96 1337.66 1505.08 Q1335.97 1503.48 1335.97 1503 Q1335.97 1502.14 1336.84 1502.14 Q1337.44 1502.14 1339.56 1503.91 Q1341.72 1505.68 1344.96 1509.75 Q1348.25 1513.81 1350.67 1518.78 Q1356.51 1530.85 1356.51 1546.41 Q1356.51 1561.37 1350.93 1573.43 Q1348.55 1578.49 1345.22 1582.72 Q1341.9 1586.96 1339.69 1588.82 Q1337.49 1590.68 1336.84 1590.68 Q1335.97 1590.68 1335.97 1589.81 Z\" fill=\"#000000\" fill-rule=\"nonzero\" fill-opacity=\"1\" /><polyline clip-path=\"url(#clip522)\" style=\"stroke:#000000; stroke-linecap:round; stroke-linejoin:round; stroke-width:2; stroke-opacity:0.1; fill:none\" points=\"195.162,1354.85 2352.76,1354.85 \"/>\n",
       "<polyline clip-path=\"url(#clip522)\" style=\"stroke:#000000; stroke-linecap:round; stroke-linejoin:round; stroke-width:2; stroke-opacity:0.1; fill:none\" points=\"195.162,931.679 2352.76,931.679 \"/>\n",
       "<polyline clip-path=\"url(#clip522)\" style=\"stroke:#000000; stroke-linecap:round; stroke-linejoin:round; stroke-width:2; stroke-opacity:0.1; fill:none\" points=\"195.162,508.505 2352.76,508.505 \"/>\n",
       "<polyline clip-path=\"url(#clip522)\" style=\"stroke:#000000; stroke-linecap:round; stroke-linejoin:round; stroke-width:2; stroke-opacity:0.1; fill:none\" points=\"195.162,85.3298 2352.76,85.3298 \"/>\n",
       "<polyline clip-path=\"url(#clip520)\" style=\"stroke:#000000; stroke-linecap:round; stroke-linejoin:round; stroke-width:4; stroke-opacity:1; fill:none\" points=\"195.162,1392.94 195.162,47.2441 \"/>\n",
       "<polyline clip-path=\"url(#clip520)\" style=\"stroke:#000000; stroke-linecap:round; stroke-linejoin:round; stroke-width:4; stroke-opacity:1; fill:none\" points=\"195.162,1354.85 214.059,1354.85 \"/>\n",
       "<polyline clip-path=\"url(#clip520)\" style=\"stroke:#000000; stroke-linecap:round; stroke-linejoin:round; stroke-width:4; stroke-opacity:1; fill:none\" points=\"195.162,931.679 214.059,931.679 \"/>\n",
       "<polyline clip-path=\"url(#clip520)\" style=\"stroke:#000000; stroke-linecap:round; stroke-linejoin:round; stroke-width:4; stroke-opacity:1; fill:none\" points=\"195.162,508.505 214.059,508.505 \"/>\n",
       "<polyline clip-path=\"url(#clip520)\" style=\"stroke:#000000; stroke-linecap:round; stroke-linejoin:round; stroke-width:4; stroke-opacity:1; fill:none\" points=\"195.162,85.3298 214.059,85.3298 \"/>\n",
       "<path clip-path=\"url(#clip520)\" d=\"M127.22 1356.5 Q127.22 1345.35 130.036 1339.27 Q133.964 1330.23 143.228 1330.23 Q145.192 1330.23 147.23 1330.79 Q149.305 1331.31 151.899 1333.34 Q154.53 1335.38 156.123 1338.72 Q159.162 1345.16 159.162 1356.5 Q159.162 1367.58 156.345 1373.62 Q152.232 1382.44 143.154 1382.44 Q139.745 1382.44 136.262 1380.7 Q132.815 1378.96 130.629 1374.77 Q127.22 1368.51 127.22 1356.5 M133.52 1355.58 Q133.52 1367.03 134.335 1371.58 Q135.261 1376.51 137.781 1378.66 Q140.338 1380.77 143.154 1380.77 Q146.192 1380.77 148.712 1378.51 Q151.269 1376.22 152.047 1371.29 Q152.899 1366.43 152.862 1355.58 Q152.862 1345.02 152.121 1340.79 Q151.121 1335.86 148.453 1333.9 Q145.822 1331.9 143.154 1331.9 Q142.153 1331.9 141.079 1332.19 Q140.041 1332.49 138.522 1333.34 Q137.003 1334.2 135.817 1336.31 Q134.668 1338.42 134.112 1341.61 Q133.52 1345.72 133.52 1355.58 Z\" fill=\"#000000\" fill-rule=\"nonzero\" fill-opacity=\"1\" /><path clip-path=\"url(#clip520)\" d=\"M134.112 914.282 L134.112 911.91 Q143.228 911.91 147.934 907.056 Q149.231 907.056 149.453 907.353 Q149.676 907.649 149.676 909.02 L149.676 951.596 Q149.676 953.857 150.787 954.561 Q151.899 955.265 156.753 955.265 L159.162 955.265 L159.162 957.599 Q156.494 957.377 146.859 957.377 Q137.225 957.377 134.594 957.599 L134.594 955.265 L137.003 955.265 Q141.783 955.265 142.931 954.598 Q144.08 953.894 144.08 951.596 L144.08 912.281 Q140.115 914.282 134.112 914.282 Z\" fill=\"#000000\" fill-rule=\"nonzero\" fill-opacity=\"1\" /><path clip-path=\"url(#clip520)\" d=\"M128.851 534.425 Q128.851 533.054 128.962 532.646 Q129.11 532.238 129.703 531.608 L144.265 515.378 Q152.232 506.411 152.232 498.592 Q152.232 493.516 149.564 489.884 Q146.933 486.253 142.079 486.253 Q138.744 486.253 135.928 488.291 Q133.112 490.329 131.815 493.96 Q132.037 493.886 132.815 493.886 Q134.705 493.886 135.743 495.072 Q136.817 496.258 136.817 497.851 Q136.817 499.889 135.483 500.89 Q134.187 501.853 132.89 501.853 Q132.371 501.853 131.667 501.742 Q131 501.631 129.925 500.593 Q128.851 499.519 128.851 497.629 Q128.851 492.33 132.853 488.106 Q136.892 483.882 143.043 483.882 Q150.009 483.882 154.567 488.032 Q159.162 492.145 159.162 498.592 Q159.162 500.853 158.458 502.928 Q157.791 504.966 156.864 506.559 Q155.975 508.153 153.529 510.709 Q151.084 513.266 149.12 515.082 Q147.156 516.898 142.746 520.751 L134.705 528.57 L148.379 528.57 Q155.048 528.57 155.567 527.977 Q156.308 526.902 157.235 521.233 L159.162 521.233 L157.012 534.425 L128.851 534.425 Z\" fill=\"#000000\" fill-rule=\"nonzero\" fill-opacity=\"1\" /><path clip-path=\"url(#clip520)\" d=\"M127.665 101.023 Q127.665 98.7623 128.962 97.6877 Q130.259 96.6131 131.926 96.6131 Q133.668 96.6131 134.891 97.7618 Q136.15 98.8734 136.15 100.837 Q136.15 102.949 134.668 104.135 Q133.223 105.321 131.148 105.025 Q132.964 108.063 136.299 109.434 Q139.671 110.805 142.783 110.805 Q146.044 110.805 148.675 107.989 Q151.343 105.173 151.343 98.2806 Q151.343 92.4259 149.046 89.0539 Q146.785 85.6818 142.302 85.6818 L138.967 85.6818 Q137.818 85.6818 137.484 85.5707 Q137.151 85.4595 137.151 84.8296 Q137.151 84.0885 138.3 83.9403 Q139.448 83.9403 141.264 83.7179 Q145.674 83.5697 148.008 79.753 Q150.12 76.1958 150.12 71.1192 Q150.12 66.4873 147.897 64.5605 Q145.711 62.5966 142.857 62.5966 Q140.189 62.5966 137.262 63.7082 Q134.335 64.8199 132.741 67.3025 Q137.447 67.3025 137.447 71.1192 Q137.447 72.7867 136.373 73.8983 Q135.335 74.9729 133.594 74.9729 Q131.926 74.9729 130.814 73.9354 Q129.703 72.8608 129.703 71.0451 Q129.703 66.7097 133.557 63.7082 Q137.447 60.7067 143.154 60.7067 Q148.786 60.7067 152.936 63.6712 Q157.124 66.6356 157.124 71.1933 Q157.124 75.677 154.159 79.3454 Q151.195 83.0139 146.489 84.5331 Q152.269 85.6818 155.715 89.6097 Q159.162 93.5005 159.162 98.2806 Q159.162 104.209 154.493 108.582 Q149.824 112.917 143.006 112.917 Q136.706 112.917 132.186 109.508 Q127.665 106.099 127.665 101.023 Z\" fill=\"#000000\" fill-rule=\"nonzero\" fill-opacity=\"1\" /><path clip-path=\"url(#clip520)\" d=\"M92.2823 776.169 Q92.9791 776.169 93.471 776.661 Q93.9629 777.153 93.9629 777.849 Q93.9629 779.038 92.8562 779.448 L52.5637 795.065 Q52.3998 795.147 51.9899 795.147 Q51.58 795.147 51.416 795.065 L11.1236 779.448 Q10.0168 779.038 10.0168 777.849 Q10.0168 777.153 10.5087 776.661 Q11.0006 776.169 11.6974 776.169 Q12.1073 776.169 12.2713 776.251 L51.9899 791.704 L91.7085 776.251 Q91.8724 776.169 92.2823 776.169 Z\" fill=\"#000000\" fill-rule=\"nonzero\" fill-opacity=\"1\" /><path clip-path=\"url(#clip520)\" d=\"M25.775 724.058 L26.9514 724.776 Q25.029 729.223 21.9589 734.761 Q25.029 740.298 26.9514 744.746 L25.775 745.434 Q21.5572 740.585 18.315 734.761 Q21.5859 728.879 25.775 724.058 Z\" fill=\"#000000\" fill-rule=\"nonzero\" fill-opacity=\"1\" /><path clip-path=\"url(#clip520)\" d=\"M60.9665 717.334 Q61.2944 717.334 62.5651 717.703 Q63.8358 718.072 65.8033 718.974 Q67.7707 719.835 69.5743 721.023 Q71.3368 722.212 72.6485 724.18 Q73.9191 726.106 73.9191 728.319 Q73.9191 731.271 71.9516 733.238 Q69.9842 735.206 67.0329 735.206 Q65.3934 735.206 63.1389 734.345 Q48.5878 728.893 43.5871 728.893 Q37.7256 728.893 37.7256 733.443 Q37.7256 735.698 38.5864 737.829 Q39.4062 739.919 40.5539 741.354 Q41.7016 742.789 43.3001 744.1 Q44.8577 745.371 45.9235 746.027 Q46.9482 746.642 47.9729 747.134 L52.1538 748.199 Q53.3015 748.445 57.7694 749.634 L65.3524 751.478 Q71.0089 752.79 71.5418 753.077 Q72.6895 753.487 73.3043 754.389 Q73.9191 755.29 73.9191 756.192 Q73.9191 757.217 73.3043 757.914 Q72.6895 758.611 71.6237 758.611 Q71.4598 758.611 70.8449 758.488 Q70.2301 758.365 69.3693 758.16 Q68.5085 757.955 68.0167 757.873 L48.6287 752.995 Q45.1037 752.093 43.997 751.888 Q42.8493 751.642 41.5786 751.642 Q37.7256 751.642 37.7256 754.266 Q37.7256 756.397 40.2669 757.791 Q42.8083 759.184 47.727 760.373 Q49.0796 760.742 49.3666 760.988 Q49.6535 761.193 49.6535 761.808 Q49.6125 762.832 48.7927 762.832 Q48.5878 762.832 47.2351 762.505 Q45.8825 762.177 43.956 761.562 Q41.9885 760.906 40.6768 760.291 Q39.6931 759.758 39.2422 759.471 Q38.7503 759.143 37.8076 758.365 Q36.8238 757.545 36.373 756.479 Q35.8811 755.372 35.8811 754.02 Q35.8811 750.987 37.8486 748.773 Q39.7751 746.56 43.1772 746.273 Q35.8811 740.821 35.8811 733.197 Q35.8811 728.688 38.2585 726.106 Q40.6358 723.524 44.8577 723.524 Q45.8415 723.524 47.1121 723.729 Q48.3418 723.893 49.8994 724.303 Q51.457 724.671 52.6457 724.999 Q53.8344 725.327 55.7609 725.983 Q57.6464 726.639 58.4662 726.926 Q59.286 727.213 61.2125 727.91 Q63.098 728.565 63.3029 728.647 Q67.1149 730.164 69.2873 730.164 Q70.722 730.164 71.3778 729.713 Q72.0336 729.221 72.0336 728.156 Q72.0336 725.286 69.2054 723.155 Q66.3361 720.982 61.6633 719.589 Q60.6386 719.261 60.3927 719.097 Q60.1467 718.892 60.1467 718.318 Q60.1467 717.334 60.9665 717.334 Z\" fill=\"#000000\" fill-rule=\"nonzero\" fill-opacity=\"1\" /><path clip-path=\"url(#clip520)\" d=\"M61.6952 686.085 Q64.3062 686.085 67.2329 687.032 Q70.1308 687.95 72.6271 689.328 Q75.1233 690.676 77.6769 692.541 Q80.2306 694.406 82.0382 695.984 Q83.8458 697.562 85.4813 699.198 Q86.3708 700.087 86.9733 700.489 Q87.1455 700.604 88.494 700.69 Q89.8139 700.776 90.3016 700.776 Q97.9625 700.776 97.9625 697.189 Q97.9625 694.205 93.3717 689.557 Q92.8266 688.955 92.8266 688.783 Q92.8266 688.438 93.0848 688.266 Q93.343 688.094 93.5439 688.094 Q93.9169 688.094 95.1794 689.471 Q96.4418 690.82 97.0157 691.652 Q99.2537 694.751 99.2537 697.304 Q99.2537 702.756 90.2442 703.875 Q91.4493 705.08 92.2527 705.998 Q93.4865 707.232 93.7734 707.576 Q94.0603 707.92 94.0603 708.121 Q94.0603 708.38 93.8021 708.609 Q93.5439 708.81 93.3143 708.81 Q93.1422 708.81 92.7118 708.523 L88.4366 704.018 Q78.7386 704.018 68.151 699.37 Q67.405 699.054 66.4582 698.595 Q65.4826 698.136 63.7037 697.075 Q61.9248 696.013 60.5762 694.951 Q59.199 693.861 58.166 692.398 Q57.1044 690.935 57.1044 689.557 Q57.1044 686.085 61.6952 686.085 M61.4657 687.491 Q58.3956 687.491 58.3956 689.5 Q58.3956 690.791 59.7154 691.795 Q61.0353 692.771 63.9332 694.205 Q67.0033 695.697 72.2541 697.218 Q77.4761 698.71 80.3453 699.341 Q83.2146 699.944 84.5057 700.173 Q71.3072 687.491 61.4657 687.491 Z\" fill=\"#000000\" fill-rule=\"nonzero\" fill-opacity=\"1\" /><path clip-path=\"url(#clip520)\" d=\"M51.416 658.496 Q51.58 658.414 51.9899 658.414 Q52.3998 658.414 52.5637 658.496 L92.8562 674.113 Q93.9629 674.523 93.9629 675.671 Q93.9629 676.368 93.471 676.86 Q92.9791 677.351 92.2823 677.351 Q91.8724 677.351 91.7085 677.27 L51.9899 661.858 L12.2713 677.27 Q12.1073 677.351 11.6974 677.351 Q11.0006 677.351 10.5087 676.86 Q10.0168 676.368 10.0168 675.671 Q10.0168 674.523 11.1236 674.113 L51.416 658.496 Z\" fill=\"#000000\" fill-rule=\"nonzero\" fill-opacity=\"1\" /><polyline clip-path=\"url(#clip522)\" style=\"stroke:#e26f46; stroke-linecap:round; stroke-linejoin:round; stroke-width:4; stroke-opacity:1; fill:none\" points=\"256.226,508.505 266.403,528.149 276.58,482.165 286.758,429.934 296.935,392.854 307.112,337.708 317.29,269.522 327.467,233.085 337.644,194.391 347.822,165.13 357.999,149.15 368.176,144.144 378.354,142.916 388.531,144.4 398.708,147.418 408.886,147.554 419.063,154.353 429.24,164.175 439.418,177.124 449.595,197.112 459.772,228.238 469.95,272.564 480.127,311.071 490.304,359.402 500.482,407.514 510.659,444.235 520.836,471.786 531.014,482.466 541.191,478.156 551.368,454.783 561.546,425.056 571.723,384.477 581.9,342.832 592.078,306.677 602.255,269.535 612.432,253.137 622.61,235.912 632.787,233.653 642.964,234.479 653.142,236.457 663.319,242.064 673.496,246.173 683.674,254.304 693.851,257.294 704.028,264.854 714.206,271.614 724.383,280.885 734.56,295.047 744.738,317.256 754.915,340.089 765.092,371.447 775.27,394.455 785.447,413.206 795.624,441.34 805.801,453.723 815.979,452.257 826.156,447.526 836.333,424.161 846.511,400.954 856.688,379.529 866.865,356.508 877.043,339.931 887.22,339.004 897.397,345.182 907.575,346.085 917.752,352.104 927.929,362.169 938.107,362.458 948.284,369.28 958.461,368.927 968.639,361.21 978.816,352.266 988.993,338.738 999.171,325.009 1009.35,330.002 1019.53,334.327 1029.7,347.146 1039.88,354.231 1050.06,366.236 1060.23,380.165 1070.41,391.596 1080.59,396.519 1090.77,396.849 1100.94,402.415 1111.12,405.684 1121.3,397.866 1131.48,385.758 1141.65,386.292 1151.83,398.179 1162.01,401.431 1172.19,406.05 1182.36,415.092 1192.54,429.358 1202.72,440.919 1212.89,442.976 1223.07,452.359 1233.25,452.32 1243.43,434.3 1253.6,423.443 1263.78,404.853 1273.96,392.517 1284.14,382.529 1294.31,373.224 1304.49,370.809 1314.67,370.211 1324.85,373.502 1335.02,388.688 1345.2,405.764 1355.38,409.685 1365.55,408.161 1375.73,403.66 1385.91,402.581 1396.09,395.65 1406.26,385.464 1416.44,383.771 1426.62,398.821 1436.8,414.608 1446.97,427.102 1457.15,438.449 1467.33,459.885 1477.51,472.654 1487.68,478.243 1497.86,483.965 1508.04,493.008 1518.21,490.446 1528.39,486.578 1538.57,468.71 1548.75,458.248 1558.92,441.415 1569.1,417.662 1579.28,409.205 1589.46,412.916 1599.63,410.417 1609.81,407.892 1619.99,405.152 1630.17,408.969 1640.34,421.183 1650.52,433.213 1660.7,429.166 1670.87,434.195 1681.05,426.331 1691.23,436.294 1701.41,438.574 1711.58,458.834 1721.76,462.893 1731.94,480.491 1742.12,496.54 1752.29,522.147 1762.47,536.417 1772.65,541.443 1782.83,535.209 1793,529.114 1803.18,530.923 1813.36,521.267 1823.53,507.748 1833.71,488.952 1843.89,477.943 1854.07,473.915 1864.24,470.576 1874.42,476.046 1884.6,472.903 1894.78,475.801 1904.95,476.297 1915.13,473.444 1925.31,475.783 1935.49,475.926 1945.66,477.253 1955.84,488.594 1966.02,490.489 1976.19,509.801 1986.37,516.845 1996.55,523.398 2006.73,533.044 2016.9,561.856 2027.08,576.576 2037.26,594.218 2047.44,589.407 2057.61,586.447 2067.79,588.216 2077.97,578.966 2088.15,564.586 2098.32,553.487 2108.5,538.89 2118.68,522.325 2128.85,540.122 2139.03,535.083 2149.21,543.197 2159.39,536.48 2169.56,540.945 2179.74,553.661 2189.92,550.401 2200.1,554.685 2210.27,547.727 2220.45,555.724 2230.63,557.707 2240.81,562.439 2250.98,566.615 2261.16,573.431 2271.34,579.896 2281.51,594.764 2291.69,611.668 \"/>\n",
       "<polyline clip-path=\"url(#clip522)\" style=\"stroke:#3da44d; stroke-linecap:round; stroke-linejoin:round; stroke-width:4; stroke-opacity:1; fill:none\" points=\"256.226,1354.85 266.403,1308.57 276.58,1321.41 286.758,1331.82 296.935,1319.1 307.112,1309.98 317.29,1325.21 327.467,1312.59 337.644,1308.14 347.822,1313.25 357.999,1316.5 368.176,1315.9 378.354,1319.03 388.531,1317.54 398.708,1315.75 408.886,1317.22 419.063,1313.06 429.24,1309.58 439.418,1303.49 449.595,1303.77 459.772,1300.75 469.95,1289.77 480.127,1295.96 490.304,1290.15 500.482,1283.69 510.659,1286.85 520.836,1286.69 531.014,1283.1 541.191,1283.03 551.368,1291.74 561.546,1290.62 571.723,1285.97 581.9,1285.91 592.078,1284.3 602.255,1284.72 612.432,1278.88 622.61,1279.36 632.787,1277.94 642.964,1275.74 653.142,1276.57 663.319,1280.21 673.496,1283.03 683.674,1279.4 693.851,1276.47 704.028,1273.27 714.206,1268.66 724.383,1265.34 734.56,1259.07 744.738,1258.93 754.915,1258.47 765.092,1253.27 775.27,1256.04 785.447,1259.57 795.624,1262.52 805.801,1252.81 815.979,1247.46 826.156,1242.86 836.333,1247.14 846.511,1248.47 856.688,1241.39 866.865,1241 877.043,1250.75 887.22,1243.26 897.397,1238.83 907.575,1241.3 917.752,1245.99 927.929,1240.92 938.107,1251.45 948.284,1246.26 958.461,1240.81 968.639,1243.86 978.816,1243.52 988.993,1240.09 999.171,1246.45 1009.35,1235.68 1019.53,1233.54 1029.7,1232.39 1039.88,1235.86 1050.06,1238.53 1060.23,1241.21 1070.41,1240.04 1080.59,1239.49 1090.77,1241.57 1100.94,1219.94 1111.12,1209.23 1121.3,1205.52 1131.48,1213.53 1141.65,1209.7 1151.83,1199.53 1162.01,1201.48 1172.19,1208.2 1182.36,1209.66 1192.54,1206.44 1202.72,1211.08 1212.89,1210.77 1223.07,1199.71 1233.25,1195.08 1243.43,1197.79 1253.6,1193.08 1263.78,1199.8 1273.96,1202.01 1284.14,1200.99 1294.31,1196.58 1304.49,1193.14 1314.67,1189.61 1324.85,1196.44 1335.02,1184.8 1345.2,1182.86 1355.38,1179.53 1365.55,1191.23 1375.73,1193.91 1385.91,1191.49 1396.09,1192.21 1406.26,1192.82 1416.44,1192.6 1426.62,1182.29 1436.8,1179.02 1446.97,1172.21 1457.15,1177.27 1467.33,1177.16 1477.51,1181.11 1487.68,1184.38 1497.86,1184.85 1508.04,1173.67 1518.21,1178.09 1528.39,1161.05 1538.57,1167.11 1548.75,1162.35 1558.92,1170.22 1569.1,1181.33 1579.28,1177.41 1589.46,1173.61 1599.63,1170.32 1609.81,1178.64 1619.99,1186.35 1630.17,1182.04 1640.34,1174.28 1650.52,1161.4 1660.7,1159.7 1670.87,1159.73 1681.05,1172.61 1691.23,1166.36 1701.41,1161.08 1711.58,1150.56 1721.76,1157.2 1731.94,1165.46 1742.12,1160.3 1752.29,1142.44 1762.47,1146.75 1772.65,1153.66 1782.83,1163.31 1793,1166.2 1803.18,1160.44 1813.36,1155.17 1823.53,1162.92 1833.71,1158.08 1843.89,1154.15 1854.07,1154.29 1864.24,1153.39 1874.42,1142.68 1884.6,1143.36 1894.78,1134.44 1904.95,1145.04 1915.13,1154.46 1925.31,1154.27 1935.49,1148.9 1945.66,1152.44 1955.84,1128.31 1966.02,1130.99 1976.19,1110.29 1986.37,1117.23 1996.55,1118.17 2006.73,1130.51 2016.9,1114.42 2027.08,1119.69 2037.26,1122.24 2047.44,1125.72 2057.61,1130.8 2067.79,1125.44 2077.97,1130.48 2088.15,1124.26 2098.32,1120.66 2108.5,1117.85 2118.68,1130.66 2128.85,1111.68 2139.03,1108.93 2149.21,1109.33 2159.39,1117.97 2169.56,1119.23 2179.74,1113.35 2189.92,1119.83 2200.1,1114.47 2210.27,1127.43 2220.45,1115.69 2230.63,1102.76 2240.81,1102.41 2250.98,1112.37 2261.16,1103.87 2271.34,1115.54 2281.51,1110.44 2291.69,1106.95 \"/>\n",
       "<polyline clip-path=\"url(#clip522)\" style=\"stroke:#c271d2; stroke-linecap:round; stroke-linejoin:round; stroke-width:4; stroke-opacity:1; fill:none\" points=\"256.226,85.3298 266.403,119.515 276.58,156.313 286.758,193.406 296.935,241.596 307.112,293.896 317.29,326.294 327.467,341.992 337.644,341.292 347.822,313.709 357.999,267.084 368.176,228.518 378.354,193.317 388.531,180.326 398.708,178.509 408.886,190.999 419.063,220.453 429.24,262.025 439.418,304.256 449.595,336.465 459.772,363.108 469.95,364.708 480.127,351.837 490.304,335.262 500.482,300.636 510.659,259.749 520.836,228.523 531.014,228.399 541.191,232.224 551.368,251.085 561.546,278.706 571.723,322.806 581.9,358.959 592.078,381.315 602.255,401.974 612.432,403.633 622.61,383.36 632.787,359.919 642.964,329.634 653.142,303.336 663.319,284.486 673.496,287.49 683.674,302.517 693.851,331.108 704.028,362.316 714.206,390.183 724.383,424.433 734.56,447.076 744.738,449.101 754.915,433.269 765.092,413.293 775.27,387.687 785.447,359.392 795.624,323.486 805.801,319.507 815.979,329.026 826.156,338.502 836.333,367.857 846.511,392.575 856.688,429.631 866.865,462.414 877.043,461.115 887.22,453.387 897.397,434.718 907.575,412.644 917.752,385.918 927.929,369.615 938.107,346.214 948.284,342.567 958.461,354.601 968.639,372.72 978.816,402.355 988.993,436.144 999.171,455.602 1009.35,474.661 1019.53,476.401 1029.7,469.441 1039.88,454.653 1050.06,425.597 1060.23,400.648 1070.41,377.62 1080.59,372.276 1090.77,370.572 1100.94,391.37 1111.12,425.109 1121.3,450.243 1131.48,474.051 1141.65,494.826 1151.83,516.304 1162.01,517.759 1172.19,502.379 1182.36,485.942 1192.54,462.73 1202.72,438.015 1212.89,431.629 1223.07,432.266 1233.25,437.065 1243.43,458.935 1253.6,480.817 1263.78,495.026 1273.96,512.265 1284.14,522.014 1294.31,536.42 1304.49,536.875 1314.67,537.915 1324.85,517.821 1335.02,502.852 1345.2,479.941 1355.38,460.768 1365.55,464.112 1375.73,475.405 1385.91,490.346 1396.09,509.429 1406.26,533.695 1416.44,554.009 1426.62,563.102 1436.8,558.522 1446.97,559.413 1457.15,544.646 1467.33,522.357 1477.51,502.461 1487.68,500.012 1497.86,492.595 1508.04,505.891 1518.21,508.302 1528.39,533.776 1538.57,546.352 1548.75,557.198 1558.92,560.962 1569.1,573.358 1579.28,577.163 1589.46,571.107 1599.63,561.54 1609.81,542.243 1619.99,518.478 1630.17,508.718 1640.34,500.302 1650.52,509.842 1660.7,527.064 1670.87,538.22 1681.05,562.011 1691.23,581.74 1701.41,598.47 1711.58,605.202 1721.76,606.363 1731.94,590.378 1742.12,583.32 1752.29,578.402 1762.47,555.066 1772.65,538.677 1782.83,543.537 1793,540.819 1803.18,558.416 1813.36,573.197 1823.53,584.973 1833.71,610.738 1843.89,619.143 1854.07,611.334 1864.24,611.015 1874.42,600.124 1884.6,586.912 1894.78,581.39 1904.95,563.768 1915.13,541.252 1925.31,544.406 1935.49,549.431 1945.66,563.589 1955.84,590.388 1966.02,600.041 1976.19,618.642 1986.37,625.878 1996.55,629.515 2006.73,610.88 2016.9,605.036 2027.08,585.762 2037.26,563.781 2047.44,564.931 2057.61,550.532 2067.79,557.795 2077.97,568.962 2088.15,593.098 2098.32,616.597 2108.5,627.685 2118.68,621.975 2128.85,621.236 2139.03,623.446 2149.21,611.765 2159.39,604.042 2169.56,586.884 2179.74,570.876 2189.92,575.746 2200.1,591.332 2210.27,591.009 2220.45,612.716 2230.63,641.673 2240.81,649.081 2250.98,646.228 2261.16,653.697 2271.34,629.857 2281.51,634.402 2291.69,620.302 \"/>\n",
       "<polyline clip-path=\"url(#clip522)\" style=\"stroke:#ac8d18; stroke-linecap:round; stroke-linejoin:round; stroke-width:4; stroke-opacity:1; fill:none\" points=\"256.226,1354.85 266.403,1340.96 276.58,1330.91 286.758,1331.07 296.935,1329.46 307.112,1323.3 317.29,1313.72 327.467,1314.39 337.644,1306.67 347.822,1305.44 357.999,1313.14 368.176,1309 378.354,1309.57 388.531,1302.19 398.708,1304.29 408.886,1309.9 419.063,1307.54 429.24,1307.75 439.418,1309.65 449.595,1304.23 459.772,1307.8 469.95,1309.85 480.127,1304.9 490.304,1299.64 500.482,1300.39 510.659,1303.51 520.836,1305.87 531.014,1298.96 541.191,1297.73 551.368,1299.89 561.546,1303.14 571.723,1295.78 581.9,1291.87 592.078,1288.21 602.255,1291.05 612.432,1284.22 622.61,1279.75 632.787,1283.83 642.964,1277.94 653.142,1274.91 663.319,1280.49 673.496,1268.99 683.674,1268.2 693.851,1269.33 704.028,1271.12 714.206,1276.03 724.383,1272.95 734.56,1260.95 744.738,1261.29 754.915,1267.24 765.092,1254.54 775.27,1251.49 785.447,1251.81 795.624,1260.6 805.801,1259.04 815.979,1256.44 826.156,1259.37 836.333,1254.63 846.511,1264.38 856.688,1256.42 866.865,1245.66 877.043,1244.88 887.22,1250 897.397,1253.36 907.575,1251.44 917.752,1250.99 927.929,1246.2 938.107,1247.38 948.284,1243.25 958.461,1240.96 968.639,1240.2 978.816,1240.1 988.993,1241.16 999.171,1234.34 1009.35,1233.41 1019.53,1235.31 1029.7,1227.71 1039.88,1228.89 1050.06,1232.78 1060.23,1229.71 1070.41,1232.54 1080.59,1227 1090.77,1232.71 1100.94,1239.02 1111.12,1234.59 1121.3,1225.81 1131.48,1226.51 1141.65,1225.68 1151.83,1209.63 1162.01,1199.86 1172.19,1200.3 1182.36,1206.46 1192.54,1209.37 1202.72,1206.41 1212.89,1202.94 1223.07,1205.65 1233.25,1203.56 1243.43,1190.01 1253.6,1189.06 1263.78,1194.97 1273.96,1189.53 1284.14,1195.35 1294.31,1192.68 1304.49,1188.53 1314.67,1182.84 1324.85,1175.34 1335.02,1181.18 1345.2,1187.13 1355.38,1199.62 1365.55,1190.98 1375.73,1170.49 1385.91,1169.43 1396.09,1174.42 1406.26,1176.86 1416.44,1174.23 1426.62,1171.19 1436.8,1186.5 1446.97,1180.85 1457.15,1182.26 1467.33,1187.96 1477.51,1187.58 1487.68,1170 1497.86,1162.81 1508.04,1156.38 1518.21,1156.43 1528.39,1160.81 1538.57,1162.01 1548.75,1166.25 1558.92,1182.15 1569.1,1163.06 1579.28,1164.12 1589.46,1153.98 1599.63,1155.01 1609.81,1148.43 1619.99,1149.29 1630.17,1156.84 1640.34,1162.59 1650.52,1163.77 1660.7,1149.4 1670.87,1155.06 1681.05,1141.72 1691.23,1131.03 1701.41,1131.37 1711.58,1134.37 1721.76,1133.95 1731.94,1146.64 1742.12,1138.78 1752.29,1141.3 1762.47,1142.37 1772.65,1151.35 1782.83,1141.99 1793,1154.46 1803.18,1144.86 1813.36,1138.21 1823.53,1140.76 1833.71,1130.94 1843.89,1135.12 1854.07,1139.03 1864.24,1126.19 1874.42,1131.62 1884.6,1132.35 1894.78,1131.47 1904.95,1134.17 1915.13,1136.97 1925.31,1135.64 1935.49,1145.49 1945.66,1148.11 1955.84,1136.45 1966.02,1140.18 1976.19,1139.39 1986.37,1135.48 1996.55,1128.24 2006.73,1133.35 2016.9,1121.83 2027.08,1115.84 2037.26,1126.82 2047.44,1125.08 2057.61,1138.87 2067.79,1135.96 2077.97,1125.47 2088.15,1125.09 2098.32,1119.7 2108.5,1119.91 2118.68,1116.29 2128.85,1126.08 2139.03,1128.43 2149.21,1119.26 2159.39,1114.45 2169.56,1112.32 2179.74,1132.4 2189.92,1121.16 2200.1,1110.53 2210.27,1116.24 2220.45,1109.77 2230.63,1102.12 2240.81,1093.84 2250.98,1102.72 2261.16,1103.57 2271.34,1122.39 2281.51,1111.06 2291.69,1114.3 \"/>\n",
       "<polyline clip-path=\"url(#clip522)\" style=\"stroke:#00a9ad; stroke-linecap:round; stroke-linejoin:round; stroke-width:4; stroke-opacity:1; fill:none\" points=\"256.226,85.3298 266.403,91.6778 276.58,98.0799 286.758,102.638 296.935,122.793 307.112,145.149 317.29,175.278 327.467,224.899 337.644,280.697 347.822,333.66 357.999,385.311 368.176,437.864 378.354,470.588 388.531,499.43 398.708,497.915 408.886,478.218 419.063,452.716 429.24,408.819 439.418,357.826 449.595,310.773 459.772,265.147 469.95,228.149 480.127,201.268 490.304,189.057 500.482,181.274 510.659,179.156 520.836,180.637 531.014,189.047 541.191,190.828 551.368,192.937 561.546,192.912 571.723,201.4 581.9,219.325 592.078,238.395 602.255,255.853 612.432,295.953 622.61,337.448 632.787,368.946 642.964,410.73 653.142,437.245 663.319,449.729 673.496,459.767 683.674,449.498 693.851,428.173 704.028,399.286 714.206,364.351 724.383,335.695 734.56,317.156 744.738,292.723 754.915,280.231 765.092,290.985 775.27,298.095 785.447,303.787 795.624,316.748 805.801,319.614 815.979,319.506 826.156,316.426 836.333,310.912 846.511,302.546 856.688,301.953 866.865,307.579 877.043,316.485 887.22,327.498 897.397,345.292 907.575,365.917 917.752,386.611 927.929,402.713 938.107,414.122 948.284,424.488 958.461,424.786 968.639,412.09 978.816,396.072 988.993,378.179 999.171,372.907 1009.35,364.793 1019.53,363.195 1029.7,370.323 1039.88,373.376 1050.06,383.865 1060.23,399.505 1070.41,409.442 1080.59,420.183 1090.77,413.769 1100.94,406.965 1111.12,402.009 1121.3,401.417 1131.48,381.017 1141.65,372.829 1151.83,369.919 1162.01,373.034 1172.19,376.639 1182.36,384.87 1192.54,394.12 1202.72,405.6 1212.89,413.709 1223.07,412.035 1233.25,414.001 1243.43,420.991 1253.6,419.852 1263.78,411.605 1273.96,414.159 1284.14,413.833 1294.31,420.044 1304.49,429.595 1314.67,438.368 1324.85,455.839 1335.02,465.668 1345.2,475.941 1355.38,482.044 1365.55,477.163 1375.73,488.186 1385.91,477.794 1396.09,464.176 1406.26,447.037 1416.44,435.499 1426.62,424.706 1436.8,405.683 1446.97,413.226 1457.15,410.179 1467.33,409.674 1477.51,413.231 1487.68,424.396 1497.86,437.051 1508.04,445.008 1518.21,444.927 1528.39,435.982 1538.57,434.017 1548.75,434.149 1558.92,423.443 1569.1,442.786 1579.28,454.524 1589.46,475.049 1599.63,489.37 1609.81,509.457 1619.99,527.379 1630.17,530.09 1640.34,536.757 1650.52,535.356 1660.7,538.256 1670.87,520.612 1681.05,509.374 1691.23,496.63 1701.41,482.548 1711.58,467.313 1721.76,460.104 1731.94,445.999 1742.12,450.037 1752.29,448.911 1762.47,456.836 1772.65,452.309 1782.83,457.621 1793,451.08 1803.18,451.266 1813.36,458.061 1823.53,453.737 1833.71,461.417 1843.89,468.009 1854.07,480.032 1864.24,510.113 1874.42,520.813 1884.6,535.766 1894.78,548.195 1904.95,556.252 1915.13,569.4 1925.31,565.429 1935.49,555.772 1945.66,538.364 1955.84,536.007 1966.02,518.05 1976.19,501.638 1986.37,492.791 1996.55,488.899 2006.73,484.664 2016.9,489.307 2027.08,498.82 2037.26,493.857 2047.44,500.005 2057.61,498.505 2067.79,501.97 2077.97,509.733 2088.15,506.576 2098.32,503.17 2108.5,513.512 2118.68,526.593 2128.85,527.185 2139.03,530.414 2149.21,551.211 2159.39,561.828 2169.56,579.62 2179.74,572.944 2189.92,580.322 2200.1,580.677 2210.27,569.282 2220.45,562.035 2230.63,551.664 2240.81,548.147 2250.98,532.224 2261.16,525.589 2271.34,516.701 2281.51,517.953 2291.69,519.632 \"/>\n",
       "<path clip-path=\"url(#clip520)\" d=\"M1957.96 403.141 L2280.84 403.141 L2280.84 92.1006 L1957.96 92.1006  Z\" fill=\"#ffffff\" fill-rule=\"evenodd\" fill-opacity=\"1\"/>\n",
       "<polyline clip-path=\"url(#clip520)\" style=\"stroke:#000000; stroke-linecap:round; stroke-linejoin:round; stroke-width:4; stroke-opacity:1; fill:none\" points=\"1957.96,403.141 2280.84,403.141 2280.84,92.1006 1957.96,92.1006 1957.96,403.141 \"/>\n",
       "<polyline clip-path=\"url(#clip520)\" style=\"stroke:#e26f46; stroke-linecap:round; stroke-linejoin:round; stroke-width:4; stroke-opacity:1; fill:none\" points=\"1981.94,143.941 2125.78,143.941 \"/>\n",
       "<path clip-path=\"url(#clip520)\" d=\"M2168.3 130.319 Q2168.3 132.451 2167.53 134.84 Q2166.78 137.206 2165.65 139.243 Q2164.55 141.281 2163.03 143.366 Q2161.51 145.45 2160.22 146.926 Q2158.93 148.401 2157.6 149.737 Q2156.87 150.463 2156.54 150.954 Q2156.45 151.095 2156.38 152.196 Q2156.31 153.273 2156.31 153.672 Q2156.31 159.925 2159.24 159.925 Q2161.67 159.925 2165.47 156.178 Q2165.96 155.733 2166.1 155.733 Q2166.38 155.733 2166.52 155.943 Q2166.66 156.154 2166.66 156.318 Q2166.66 156.623 2165.54 157.653 Q2164.44 158.684 2163.76 159.152 Q2161.23 160.979 2159.14 160.979 Q2154.69 160.979 2153.78 153.625 Q2152.79 154.608 2152.04 155.264 Q2151.04 156.271 2150.76 156.506 Q2150.48 156.74 2150.31 156.74 Q2150.1 156.74 2149.91 156.529 Q2149.75 156.318 2149.75 156.131 Q2149.75 155.99 2149.98 155.639 L2153.66 152.149 Q2153.66 144.232 2157.46 135.589 Q2157.71 134.98 2158.09 134.207 Q2158.46 133.411 2159.33 131.959 Q2160.2 130.507 2161.06 129.406 Q2161.95 128.282 2163.15 127.438 Q2164.34 126.572 2165.47 126.572 Q2168.3 126.572 2168.3 130.319 M2167.15 130.132 Q2167.15 127.626 2165.51 127.626 Q2164.46 127.626 2163.64 128.703 Q2162.84 129.781 2161.67 132.146 Q2160.45 134.652 2159.21 138.939 Q2157.99 143.202 2157.48 145.544 Q2156.99 147.886 2156.8 148.94 Q2167.15 138.166 2167.15 130.132 Z\" fill=\"#000000\" fill-rule=\"nonzero\" fill-opacity=\"1\" /><path clip-path=\"url(#clip520)\" d=\"M2182.86 153.109 Q2182.91 152.524 2183.82 152.524 L2213.22 152.524 Q2214.6 152.524 2214.62 153.063 Q2214.62 153.648 2213.31 153.625 L2184.15 153.625 Q2182.86 153.648 2182.86 153.109 M2182.86 143.74 Q2182.86 143.155 2183.87 143.178 L2213.17 143.178 Q2214.6 143.178 2214.62 143.74 Q2214.62 144.279 2213.4 144.279 L2183.82 144.279 Q2182.86 144.279 2182.86 143.74 Z\" fill=\"#000000\" fill-rule=\"nonzero\" fill-opacity=\"1\" /><path clip-path=\"url(#clip520)\" d=\"M2233.11 133.013 L2233.11 131.514 Q2238.87 131.514 2241.85 128.446 Q2242.67 128.446 2242.81 128.633 Q2242.95 128.82 2242.95 129.687 L2242.95 156.599 Q2242.95 158.028 2243.65 158.473 Q2244.36 158.918 2247.42 158.918 L2248.95 158.918 L2248.95 160.394 Q2247.26 160.253 2241.17 160.253 Q2235.08 160.253 2233.42 160.394 L2233.42 158.918 L2234.94 158.918 Q2237.96 158.918 2238.69 158.497 Q2239.41 158.051 2239.41 156.599 L2239.41 131.748 Q2236.91 133.013 2233.11 133.013 Z\" fill=\"#000000\" fill-rule=\"nonzero\" fill-opacity=\"1\" /><polyline clip-path=\"url(#clip520)\" style=\"stroke:#3da44d; stroke-linecap:round; stroke-linejoin:round; stroke-width:4; stroke-opacity:1; fill:none\" points=\"1981.94,195.781 2125.78,195.781 \"/>\n",
       "<path clip-path=\"url(#clip520)\" d=\"M2168.3 182.159 Q2168.3 184.291 2167.53 186.68 Q2166.78 189.046 2165.65 191.083 Q2164.55 193.121 2163.03 195.206 Q2161.51 197.29 2160.22 198.766 Q2158.93 200.241 2157.6 201.577 Q2156.87 202.303 2156.54 202.794 Q2156.45 202.935 2156.38 204.036 Q2156.31 205.113 2156.31 205.512 Q2156.31 211.765 2159.24 211.765 Q2161.67 211.765 2165.47 208.018 Q2165.96 207.573 2166.1 207.573 Q2166.38 207.573 2166.52 207.783 Q2166.66 207.994 2166.66 208.158 Q2166.66 208.463 2165.54 209.493 Q2164.44 210.524 2163.76 210.992 Q2161.23 212.819 2159.14 212.819 Q2154.69 212.819 2153.78 205.465 Q2152.79 206.448 2152.04 207.104 Q2151.04 208.111 2150.76 208.346 Q2150.48 208.58 2150.31 208.58 Q2150.1 208.58 2149.91 208.369 Q2149.75 208.158 2149.75 207.971 Q2149.75 207.83 2149.98 207.479 L2153.66 203.989 Q2153.66 196.072 2157.46 187.429 Q2157.71 186.82 2158.09 186.047 Q2158.46 185.251 2159.33 183.799 Q2160.2 182.347 2161.06 181.246 Q2161.95 180.122 2163.15 179.278 Q2164.34 178.412 2165.47 178.412 Q2168.3 178.412 2168.3 182.159 M2167.15 181.972 Q2167.15 179.466 2165.51 179.466 Q2164.46 179.466 2163.64 180.543 Q2162.84 181.621 2161.67 183.986 Q2160.45 186.492 2159.21 190.779 Q2157.99 195.042 2157.48 197.384 Q2156.99 199.726 2156.8 200.78 Q2167.15 190.006 2167.15 181.972 Z\" fill=\"#000000\" fill-rule=\"nonzero\" fill-opacity=\"1\" /><path clip-path=\"url(#clip520)\" d=\"M2182.86 204.949 Q2182.91 204.364 2183.82 204.364 L2213.22 204.364 Q2214.6 204.364 2214.62 204.903 Q2214.62 205.488 2213.31 205.465 L2184.15 205.465 Q2182.86 205.488 2182.86 204.949 M2182.86 195.58 Q2182.86 194.995 2183.87 195.018 L2213.17 195.018 Q2214.6 195.018 2214.62 195.58 Q2214.62 196.119 2213.4 196.119 L2183.82 196.119 Q2182.86 196.119 2182.86 195.58 Z\" fill=\"#000000\" fill-rule=\"nonzero\" fill-opacity=\"1\" /><path clip-path=\"url(#clip520)\" d=\"M2233.11 184.853 L2233.11 183.354 Q2238.87 183.354 2241.85 180.286 Q2242.67 180.286 2242.81 180.473 Q2242.95 180.66 2242.95 181.527 L2242.95 208.439 Q2242.95 209.868 2243.65 210.313 Q2244.36 210.758 2247.42 210.758 L2248.95 210.758 L2248.95 212.234 Q2247.26 212.093 2241.17 212.093 Q2235.08 212.093 2233.42 212.234 L2233.42 210.758 L2234.94 210.758 Q2237.96 210.758 2238.69 210.337 Q2239.41 209.891 2239.41 208.439 L2239.41 183.588 Q2236.91 184.853 2233.11 184.853 Z\" fill=\"#000000\" fill-rule=\"nonzero\" fill-opacity=\"1\" /><polyline clip-path=\"url(#clip520)\" style=\"stroke:#c271d2; stroke-linecap:round; stroke-linejoin:round; stroke-width:4; stroke-opacity:1; fill:none\" points=\"1981.94,247.621 2125.78,247.621 \"/>\n",
       "<path clip-path=\"url(#clip520)\" d=\"M2168.3 233.999 Q2168.3 236.131 2167.53 238.52 Q2166.78 240.886 2165.65 242.923 Q2164.55 244.961 2163.03 247.046 Q2161.51 249.13 2160.22 250.606 Q2158.93 252.081 2157.6 253.417 Q2156.87 254.143 2156.54 254.634 Q2156.45 254.775 2156.38 255.876 Q2156.31 256.953 2156.31 257.352 Q2156.31 263.605 2159.24 263.605 Q2161.67 263.605 2165.47 259.858 Q2165.96 259.413 2166.1 259.413 Q2166.38 259.413 2166.52 259.623 Q2166.66 259.834 2166.66 259.998 Q2166.66 260.303 2165.54 261.333 Q2164.44 262.364 2163.76 262.832 Q2161.23 264.659 2159.14 264.659 Q2154.69 264.659 2153.78 257.305 Q2152.79 258.288 2152.04 258.944 Q2151.04 259.951 2150.76 260.186 Q2150.48 260.42 2150.31 260.42 Q2150.1 260.42 2149.91 260.209 Q2149.75 259.998 2149.75 259.811 Q2149.75 259.67 2149.98 259.319 L2153.66 255.829 Q2153.66 247.912 2157.46 239.269 Q2157.71 238.66 2158.09 237.887 Q2158.46 237.091 2159.33 235.639 Q2160.2 234.187 2161.06 233.086 Q2161.95 231.962 2163.15 231.118 Q2164.34 230.252 2165.47 230.252 Q2168.3 230.252 2168.3 233.999 M2167.15 233.812 Q2167.15 231.306 2165.51 231.306 Q2164.46 231.306 2163.64 232.383 Q2162.84 233.461 2161.67 235.826 Q2160.45 238.332 2159.21 242.619 Q2157.99 246.882 2157.48 249.224 Q2156.99 251.566 2156.8 252.62 Q2167.15 241.846 2167.15 233.812 Z\" fill=\"#000000\" fill-rule=\"nonzero\" fill-opacity=\"1\" /><path clip-path=\"url(#clip520)\" d=\"M2182.86 256.789 Q2182.91 256.204 2183.82 256.204 L2213.22 256.204 Q2214.6 256.204 2214.62 256.743 Q2214.62 257.328 2213.31 257.305 L2184.15 257.305 Q2182.86 257.328 2182.86 256.789 M2182.86 247.42 Q2182.86 246.835 2183.87 246.858 L2213.17 246.858 Q2214.6 246.858 2214.62 247.42 Q2214.62 247.959 2213.4 247.959 L2183.82 247.959 Q2182.86 247.959 2182.86 247.42 Z\" fill=\"#000000\" fill-rule=\"nonzero\" fill-opacity=\"1\" /><path clip-path=\"url(#clip520)\" d=\"M2233.11 236.693 L2233.11 235.194 Q2238.87 235.194 2241.85 232.126 Q2242.67 232.126 2242.81 232.313 Q2242.95 232.5 2242.95 233.367 L2242.95 260.279 Q2242.95 261.708 2243.65 262.153 Q2244.36 262.598 2247.42 262.598 L2248.95 262.598 L2248.95 264.074 Q2247.26 263.933 2241.17 263.933 Q2235.08 263.933 2233.42 264.074 L2233.42 262.598 L2234.94 262.598 Q2237.96 262.598 2238.69 262.177 Q2239.41 261.731 2239.41 260.279 L2239.41 235.428 Q2236.91 236.693 2233.11 236.693 Z\" fill=\"#000000\" fill-rule=\"nonzero\" fill-opacity=\"1\" /><polyline clip-path=\"url(#clip520)\" style=\"stroke:#ac8d18; stroke-linecap:round; stroke-linejoin:round; stroke-width:4; stroke-opacity:1; fill:none\" points=\"1981.94,299.461 2125.78,299.461 \"/>\n",
       "<path clip-path=\"url(#clip520)\" d=\"M2168.3 285.839 Q2168.3 287.971 2167.53 290.36 Q2166.78 292.726 2165.65 294.763 Q2164.55 296.801 2163.03 298.886 Q2161.51 300.97 2160.22 302.446 Q2158.93 303.921 2157.6 305.257 Q2156.87 305.983 2156.54 306.474 Q2156.45 306.615 2156.38 307.716 Q2156.31 308.793 2156.31 309.192 Q2156.31 315.445 2159.24 315.445 Q2161.67 315.445 2165.47 311.698 Q2165.96 311.253 2166.1 311.253 Q2166.38 311.253 2166.52 311.463 Q2166.66 311.674 2166.66 311.838 Q2166.66 312.143 2165.54 313.173 Q2164.44 314.204 2163.76 314.672 Q2161.23 316.499 2159.14 316.499 Q2154.69 316.499 2153.78 309.145 Q2152.79 310.128 2152.04 310.784 Q2151.04 311.791 2150.76 312.026 Q2150.48 312.26 2150.31 312.26 Q2150.1 312.26 2149.91 312.049 Q2149.75 311.838 2149.75 311.651 Q2149.75 311.51 2149.98 311.159 L2153.66 307.669 Q2153.66 299.752 2157.46 291.109 Q2157.71 290.5 2158.09 289.727 Q2158.46 288.931 2159.33 287.479 Q2160.2 286.027 2161.06 284.926 Q2161.95 283.802 2163.15 282.958 Q2164.34 282.092 2165.47 282.092 Q2168.3 282.092 2168.3 285.839 M2167.15 285.652 Q2167.15 283.146 2165.51 283.146 Q2164.46 283.146 2163.64 284.223 Q2162.84 285.301 2161.67 287.666 Q2160.45 290.172 2159.21 294.459 Q2157.99 298.722 2157.48 301.064 Q2156.99 303.406 2156.8 304.46 Q2167.15 293.686 2167.15 285.652 Z\" fill=\"#000000\" fill-rule=\"nonzero\" fill-opacity=\"1\" /><path clip-path=\"url(#clip520)\" d=\"M2182.86 308.629 Q2182.91 308.044 2183.82 308.044 L2213.22 308.044 Q2214.6 308.044 2214.62 308.583 Q2214.62 309.168 2213.31 309.145 L2184.15 309.145 Q2182.86 309.168 2182.86 308.629 M2182.86 299.26 Q2182.86 298.675 2183.87 298.698 L2213.17 298.698 Q2214.6 298.698 2214.62 299.26 Q2214.62 299.799 2213.4 299.799 L2183.82 299.799 Q2182.86 299.799 2182.86 299.26 Z\" fill=\"#000000\" fill-rule=\"nonzero\" fill-opacity=\"1\" /><path clip-path=\"url(#clip520)\" d=\"M2233.11 288.533 L2233.11 287.034 Q2238.87 287.034 2241.85 283.966 Q2242.67 283.966 2242.81 284.153 Q2242.95 284.34 2242.95 285.207 L2242.95 312.119 Q2242.95 313.548 2243.65 313.993 Q2244.36 314.438 2247.42 314.438 L2248.95 314.438 L2248.95 315.914 Q2247.26 315.773 2241.17 315.773 Q2235.08 315.773 2233.42 315.914 L2233.42 314.438 L2234.94 314.438 Q2237.96 314.438 2238.69 314.017 Q2239.41 313.571 2239.41 312.119 L2239.41 287.268 Q2236.91 288.533 2233.11 288.533 Z\" fill=\"#000000\" fill-rule=\"nonzero\" fill-opacity=\"1\" /><polyline clip-path=\"url(#clip520)\" style=\"stroke:#00a9ad; stroke-linecap:round; stroke-linejoin:round; stroke-width:4; stroke-opacity:1; fill:none\" points=\"1981.94,351.301 2125.78,351.301 \"/>\n",
       "<path clip-path=\"url(#clip520)\" d=\"M2168.3 337.679 Q2168.3 339.811 2167.53 342.2 Q2166.78 344.566 2165.65 346.603 Q2164.55 348.641 2163.03 350.726 Q2161.51 352.81 2160.22 354.286 Q2158.93 355.761 2157.6 357.097 Q2156.87 357.823 2156.54 358.314 Q2156.45 358.455 2156.38 359.556 Q2156.31 360.633 2156.31 361.032 Q2156.31 367.285 2159.24 367.285 Q2161.67 367.285 2165.47 363.538 Q2165.96 363.093 2166.1 363.093 Q2166.38 363.093 2166.52 363.303 Q2166.66 363.514 2166.66 363.678 Q2166.66 363.983 2165.54 365.013 Q2164.44 366.044 2163.76 366.512 Q2161.23 368.339 2159.14 368.339 Q2154.69 368.339 2153.78 360.985 Q2152.79 361.968 2152.04 362.624 Q2151.04 363.631 2150.76 363.866 Q2150.48 364.1 2150.31 364.1 Q2150.1 364.1 2149.91 363.889 Q2149.75 363.678 2149.75 363.491 Q2149.75 363.35 2149.98 362.999 L2153.66 359.509 Q2153.66 351.592 2157.46 342.949 Q2157.71 342.34 2158.09 341.567 Q2158.46 340.771 2159.33 339.319 Q2160.2 337.867 2161.06 336.766 Q2161.95 335.642 2163.15 334.798 Q2164.34 333.932 2165.47 333.932 Q2168.3 333.932 2168.3 337.679 M2167.15 337.492 Q2167.15 334.986 2165.51 334.986 Q2164.46 334.986 2163.64 336.063 Q2162.84 337.141 2161.67 339.506 Q2160.45 342.012 2159.21 346.299 Q2157.99 350.562 2157.48 352.904 Q2156.99 355.246 2156.8 356.3 Q2167.15 345.526 2167.15 337.492 Z\" fill=\"#000000\" fill-rule=\"nonzero\" fill-opacity=\"1\" /><path clip-path=\"url(#clip520)\" d=\"M2182.86 360.469 Q2182.91 359.884 2183.82 359.884 L2213.22 359.884 Q2214.6 359.884 2214.62 360.423 Q2214.62 361.008 2213.31 360.985 L2184.15 360.985 Q2182.86 361.008 2182.86 360.469 M2182.86 351.1 Q2182.86 350.515 2183.87 350.538 L2213.17 350.538 Q2214.6 350.538 2214.62 351.1 Q2214.62 351.639 2213.4 351.639 L2183.82 351.639 Q2182.86 351.639 2182.86 351.1 Z\" fill=\"#000000\" fill-rule=\"nonzero\" fill-opacity=\"1\" /><path clip-path=\"url(#clip520)\" d=\"M2233.11 340.373 L2233.11 338.874 Q2238.87 338.874 2241.85 335.806 Q2242.67 335.806 2242.81 335.993 Q2242.95 336.18 2242.95 337.047 L2242.95 363.959 Q2242.95 365.388 2243.65 365.833 Q2244.36 366.278 2247.42 366.278 L2248.95 366.278 L2248.95 367.754 Q2247.26 367.613 2241.17 367.613 Q2235.08 367.613 2233.42 367.754 L2233.42 366.278 L2234.94 366.278 Q2237.96 366.278 2238.69 365.857 Q2239.41 365.411 2239.41 363.959 L2239.41 339.108 Q2236.91 340.373 2233.11 340.373 Z\" fill=\"#000000\" fill-rule=\"nonzero\" fill-opacity=\"1\" /></svg>\n"
      ]
     },
     "metadata": {},
     "output_type": "display_data"
    },
    {
     "name": "stdout",
     "output_type": "stream",
     "text": [
      "165.378458 seconds (1.08 M allocations: 252.024 MiB, 0.02% gc time, 0.27% compilation time)\n"
     ]
    },
    {
     "data": {
      "text/plain": [
       "Task (done) @0x0000016d158b1d20"
      ]
     },
     "execution_count": 7,
     "metadata": {},
     "output_type": "execute_result"
    }
   ],
   "source": [
    "using Plots, LaTeXStrings, Distributed\n",
    "addprocs(4) # add 4 local processes\n",
    "@everywhere begin\n",
    "    using BosonicStuff\n",
    "    BLAS.set_num_threads(1) \n",
    "end\n",
    "\n",
    "function nonunitary_dynamics(fock)\n",
    "    J = 0.02 * 2 * pi; U = 0.23 * 2 * pi # values in GHz, corresponding time unit is ns\n",
    "    γ = (20e3)^-1; κ = (8e3)^-1\n",
    "    end_time = 2e3; saves = 200\n",
    "    basis = Basis_global_max_N(length(fock), sum(fock))\n",
    "    \n",
    "    # Hamiltonian\n",
    "    H = ABH_Hamiltonian(basis, J = J, U = U, split = false)\n",
    "    \n",
    "    # Set up the initial state from fock\n",
    "    state = product_state(basis, fock)\n",
    "    \n",
    "    # Set up what outputs to compute as a vector of funtions. In this case, the on-site occupations\n",
    "    output_functions::Vector{Function} = []\n",
    "    for l in 1:basis.L\n",
    "        push!(output_functions, ψ -> real(ψ' * number(basis, l) * ψ))\n",
    "    end\n",
    "    \n",
    "    # run a number of non-unitary trajectories\n",
    "    output = run_trajectories(basis, Matrix(H), state, output_functions, end_time, γ = γ, κ = κ, saves = saves, dt = 1., trajectories = 100)\n",
    "    \n",
    "    # plot the output\n",
    "    time = range(0, end_time * 1e-3, saves + 1)\n",
    "    p = plot([], [], label = \"\", xlabel = L\"t\" * \"(µs)\", ylabel = L\"\\langle \\hat{n}_\\ell \\rangle\", fontfamily = \"Computer Modern\", tickfontsize = 12, guidefontsize = 14)\n",
    "    for l in 1:basis.L\n",
    "        plot!(p, time, output[l], label = L\"\\ell = \" * string(l))\n",
    "    end\n",
    "    \n",
    "    display(p)\n",
    "end\n",
    "\n",
    "@time nonunitary_dynamics([2, 0, 3, 0, 3])\n",
    "rmprocs(workers()); # remove processes"
   ]
  }
 ],
 "metadata": {
  "kernelspec": {
   "display_name": "Julia (4 threads) 1.8.5",
   "language": "julia",
   "name": "julia-_4-threads_-1.8"
  },
  "language_info": {
   "file_extension": ".jl",
   "mimetype": "application/julia",
   "name": "julia",
   "version": "1.8.5"
  }
 },
 "nbformat": 4,
 "nbformat_minor": 5
}
